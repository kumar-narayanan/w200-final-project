{
 "cells": [
  {
   "cell_type": "code",
   "execution_count": 1,
   "id": "foster-purchase",
   "metadata": {
    "ExecuteTime": {
     "end_time": "2021-04-14T22:42:59.126912Z",
     "start_time": "2021-04-14T22:42:55.817927Z"
    }
   },
   "outputs": [],
   "source": [
    "import pandas as pd\n",
    "import numpy as np\n",
    "import matplotlib.pyplot as plt\n",
    "import seaborn as sns\n",
    "from matplotlib.ticker import (MultipleLocator, AutoMinorLocator)\n",
    "import matplotlib.ticker as ticker\n",
    "from matplotlib import rcParams\n",
    "\n",
    "%matplotlib inline\n",
    "pd.options.display.max_columns = None\n"
   ]
  },
  {
   "cell_type": "code",
   "execution_count": 2,
   "id": "martial-midwest",
   "metadata": {
    "ExecuteTime": {
     "end_time": "2021-04-14T22:43:06.018254Z",
     "start_time": "2021-04-14T22:43:01.621037Z"
    }
   },
   "outputs": [
    {
     "name": "stderr",
     "output_type": "stream",
     "text": [
      "C:\\ProgramData\\Anaconda3\\lib\\site-packages\\IPython\\core\\interactiveshell.py:3165: DtypeWarning: Columns (0,19,54,55,63,64,65,66) have mixed types.Specify dtype option on import or set low_memory=False.\n",
      "  has_raised = await self.run_ast_nodes(code_ast.body, cell_name,\n"
     ]
    }
   ],
   "source": [
    "car = pd.read_csv(\"CrashReport2014.csv\")"
   ]
  },
  {
   "cell_type": "code",
   "execution_count": 3,
   "id": "neither-nowhere",
   "metadata": {
    "ExecuteTime": {
     "end_time": "2021-04-14T22:43:11.418091Z",
     "start_time": "2021-04-14T22:43:10.589327Z"
    }
   },
   "outputs": [
    {
     "name": "stdout",
     "output_type": "stream",
     "text": [
      "<class 'pandas.core.frame.DataFrame'>\n",
      "RangeIndex: 292019 entries, 0 to 292018\n",
      "Data columns (total 80 columns):\n",
      " #   Column      Non-Null Count   Dtype  \n",
      "---  ------      --------------   -----  \n",
      " 0   OBJECTID    292019 non-null  object \n",
      " 1   geodb_oid   292019 non-null  int64  \n",
      " 2   ROUTE       113528 non-null  object \n",
      " 3   YEAR        292019 non-null  int64  \n",
      " 4   MONTH       292019 non-null  int64  \n",
      " 5   DAY         292019 non-null  int64  \n",
      " 6   HOUR        292019 non-null  int64  \n",
      " 7   DAY_O_WEEK  292019 non-null  object \n",
      " 8   NUM_VEH     292019 non-null  int64  \n",
      " 9   INJURIES    292019 non-null  int64  \n",
      " 10  FATALITIES  292019 non-null  int64  \n",
      " 11  COLL_TYPE   292019 non-null  object \n",
      " 12  WEATHER     284145 non-null  object \n",
      " 13  LIGHTING    285219 non-null  object \n",
      " 14  SURF_COND   281465 non-null  object \n",
      " 15  RD_DEFECT   254945 non-null  object \n",
      " 16  RD_FEATURE  292019 non-null  object \n",
      " 17  TRAF_CNTRL  287605 non-null  object \n",
      " 18  COUNTY      292019 non-null  int64  \n",
      " 19  TOWNSHIP    292019 non-null  object \n",
      " 20  TS_ROUTE    292019 non-null  int64  \n",
      " 21  MILE        292019 non-null  float64\n",
      " 22  CITY        292002 non-null  object \n",
      " 23  DRIVER_1    288384 non-null  object \n",
      " 24  VEH1_TYPE   289342 non-null  object \n",
      " 25  VEH1_SPECL  289342 non-null  object \n",
      " 26  VEH1_DIR    289342 non-null  object \n",
      " 27  VEH1_MANUV  289342 non-null  object \n",
      " 28  VEH1_EVNT1  289342 non-null  object \n",
      " 29  VEH1_LOC1   287175 non-null  object \n",
      " 30  VEH1_EVNT2  41860 non-null   object \n",
      " 31  VEH1_LOC2   41204 non-null   object \n",
      " 32  VEH1_EVNT3  10823 non-null   object \n",
      " 33  VEH1_LOC3   10635 non-null   object \n",
      " 34  DRIVER_2    195413 non-null  object \n",
      " 35  VEH2_TYPE   230159 non-null  object \n",
      " 36  VEH2_SPECL  230159 non-null  object \n",
      " 37  VEH2_DIR    230159 non-null  object \n",
      " 38  VEH2_MANUV  230159 non-null  object \n",
      " 39  VEH2_EVNT1  230159 non-null  object \n",
      " 40  VEH2_LOC1   228955 non-null  object \n",
      " 41  VEH2_EVNT2  10183 non-null   object \n",
      " 42  VEH2_LOC2   10092 non-null   object \n",
      " 43  VEH2_EVNT3  2139 non-null    object \n",
      " 44  VEH2_LOC3   2080 non-null    object \n",
      " 45  DRIVER_3    17753 non-null   object \n",
      " 46  VEH3_TYPE   21802 non-null   object \n",
      " 47  VEH3_SPECL  21802 non-null   object \n",
      " 48  VEH3_DIR    21802 non-null   object \n",
      " 49  VEH3_MANUV  21802 non-null   object \n",
      " 50  VEH3_EVNT1  21802 non-null   object \n",
      " 51  VEH3_LOC1   21696 non-null   object \n",
      " 52  VEH3_EVNT2  1191 non-null    object \n",
      " 53  VEH3_LOC2   1186 non-null    object \n",
      " 54  VEH3_EVNT3  126 non-null     object \n",
      " 55  VEH3_LOC3   120 non-null     object \n",
      " 56  DRIVER_4    2569 non-null    object \n",
      " 57  VEH4_TYPE   3666 non-null    object \n",
      " 58  VEH4_SPECL  3666 non-null    object \n",
      " 59  VEH4_DIR    3666 non-null    object \n",
      " 60  VEH4_MANUV  3666 non-null    object \n",
      " 61  VEH4_EVNT1  3666 non-null    object \n",
      " 62  VEH4_LOC1   3641 non-null    object \n",
      " 63  VEH4_EVNT2  197 non-null     object \n",
      " 64  VEH4_LOC2   195 non-null     object \n",
      " 65  VEH4_EVNT3  25 non-null      object \n",
      " 66  VEH4_LOC3   24 non-null      object \n",
      " 67  DUP_CD      292019 non-null  float64\n",
      " 68  REC_TYPE    291902 non-null  object \n",
      " 69  XCOORD      292019 non-null  float64\n",
      " 70  YCOORD      292019 non-null  float64\n",
      " 71  INTERSEC    292019 non-null  object \n",
      " 72  SFE         291928 non-null  object \n",
      " 73  AGENCY_NUM  292019 non-null  int64  \n",
      " 74  RUNDATE     292019 non-null  int64  \n",
      " 75  WorkZone    292019 non-null  object \n",
      " 76  WorkZoneTy  292019 non-null  object \n",
      " 77  WorkersPre  292019 non-null  object \n",
      " 78  ExceedSpee  292019 non-null  object \n",
      " 79  CellPhoneU  292019 non-null  object \n",
      "dtypes: float64(4), int64(12), object(64)\n",
      "memory usage: 178.2+ MB\n"
     ]
    }
   ],
   "source": [
    "car.info()"
   ]
  },
  {
   "cell_type": "code",
   "execution_count": 4,
   "id": "sapphire-criterion",
   "metadata": {
    "ExecuteTime": {
     "end_time": "2021-04-14T22:43:18.127448Z",
     "start_time": "2021-04-14T22:43:18.023509Z"
    }
   },
   "outputs": [
    {
     "data": {
      "text/html": [
       "<div>\n",
       "<style scoped>\n",
       "    .dataframe tbody tr th:only-of-type {\n",
       "        vertical-align: middle;\n",
       "    }\n",
       "\n",
       "    .dataframe tbody tr th {\n",
       "        vertical-align: top;\n",
       "    }\n",
       "\n",
       "    .dataframe thead th {\n",
       "        text-align: right;\n",
       "    }\n",
       "</style>\n",
       "<table border=\"1\" class=\"dataframe\">\n",
       "  <thead>\n",
       "    <tr style=\"text-align: right;\">\n",
       "      <th></th>\n",
       "      <th>OBJECTID</th>\n",
       "      <th>geodb_oid</th>\n",
       "      <th>ROUTE</th>\n",
       "      <th>YEAR</th>\n",
       "      <th>MONTH</th>\n",
       "      <th>DAY</th>\n",
       "      <th>HOUR</th>\n",
       "      <th>DAY_O_WEEK</th>\n",
       "      <th>NUM_VEH</th>\n",
       "      <th>INJURIES</th>\n",
       "      <th>FATALITIES</th>\n",
       "      <th>COLL_TYPE</th>\n",
       "      <th>WEATHER</th>\n",
       "      <th>LIGHTING</th>\n",
       "      <th>SURF_COND</th>\n",
       "      <th>RD_DEFECT</th>\n",
       "      <th>RD_FEATURE</th>\n",
       "      <th>TRAF_CNTRL</th>\n",
       "      <th>COUNTY</th>\n",
       "      <th>TOWNSHIP</th>\n",
       "      <th>TS_ROUTE</th>\n",
       "      <th>MILE</th>\n",
       "      <th>CITY</th>\n",
       "      <th>DRIVER_1</th>\n",
       "      <th>VEH1_TYPE</th>\n",
       "      <th>VEH1_SPECL</th>\n",
       "      <th>VEH1_DIR</th>\n",
       "      <th>VEH1_MANUV</th>\n",
       "      <th>VEH1_EVNT1</th>\n",
       "      <th>VEH1_LOC1</th>\n",
       "      <th>VEH1_EVNT2</th>\n",
       "      <th>VEH1_LOC2</th>\n",
       "      <th>VEH1_EVNT3</th>\n",
       "      <th>VEH1_LOC3</th>\n",
       "      <th>DRIVER_2</th>\n",
       "      <th>VEH2_TYPE</th>\n",
       "      <th>VEH2_SPECL</th>\n",
       "      <th>VEH2_DIR</th>\n",
       "      <th>VEH2_MANUV</th>\n",
       "      <th>VEH2_EVNT1</th>\n",
       "      <th>VEH2_LOC1</th>\n",
       "      <th>VEH2_EVNT2</th>\n",
       "      <th>VEH2_LOC2</th>\n",
       "      <th>VEH2_EVNT3</th>\n",
       "      <th>VEH2_LOC3</th>\n",
       "      <th>DRIVER_3</th>\n",
       "      <th>VEH3_TYPE</th>\n",
       "      <th>VEH3_SPECL</th>\n",
       "      <th>VEH3_DIR</th>\n",
       "      <th>VEH3_MANUV</th>\n",
       "      <th>VEH3_EVNT1</th>\n",
       "      <th>VEH3_LOC1</th>\n",
       "      <th>VEH3_EVNT2</th>\n",
       "      <th>VEH3_LOC2</th>\n",
       "      <th>VEH3_EVNT3</th>\n",
       "      <th>VEH3_LOC3</th>\n",
       "      <th>DRIVER_4</th>\n",
       "      <th>VEH4_TYPE</th>\n",
       "      <th>VEH4_SPECL</th>\n",
       "      <th>VEH4_DIR</th>\n",
       "      <th>VEH4_MANUV</th>\n",
       "      <th>VEH4_EVNT1</th>\n",
       "      <th>VEH4_LOC1</th>\n",
       "      <th>VEH4_EVNT2</th>\n",
       "      <th>VEH4_LOC2</th>\n",
       "      <th>VEH4_EVNT3</th>\n",
       "      <th>VEH4_LOC3</th>\n",
       "      <th>DUP_CD</th>\n",
       "      <th>REC_TYPE</th>\n",
       "      <th>XCOORD</th>\n",
       "      <th>YCOORD</th>\n",
       "      <th>INTERSEC</th>\n",
       "      <th>SFE</th>\n",
       "      <th>AGENCY_NUM</th>\n",
       "      <th>RUNDATE</th>\n",
       "      <th>WorkZone</th>\n",
       "      <th>WorkZoneTy</th>\n",
       "      <th>WorkersPre</th>\n",
       "      <th>ExceedSpee</th>\n",
       "      <th>CellPhoneU</th>\n",
       "    </tr>\n",
       "  </thead>\n",
       "  <tbody>\n",
       "    <tr>\n",
       "      <th>0</th>\n",
       "      <td>1894</td>\n",
       "      <td>5331</td>\n",
       "      <td>NaN</td>\n",
       "      <td>14</td>\n",
       "      <td>3</td>\n",
       "      <td>5</td>\n",
       "      <td>12</td>\n",
       "      <td>Wed</td>\n",
       "      <td>1</td>\n",
       "      <td>0</td>\n",
       "      <td>0</td>\n",
       "      <td>Other Object</td>\n",
       "      <td>Clear</td>\n",
       "      <td>Daylight</td>\n",
       "      <td>Snow or Slush</td>\n",
       "      <td>No Defects</td>\n",
       "      <td>Not Applicable</td>\n",
       "      <td>No Controls</td>\n",
       "      <td>43</td>\n",
       "      <td>5</td>\n",
       "      <td>0</td>\n",
       "      <td>0.00</td>\n",
       "      <td>Unincorporated</td>\n",
       "      <td>Normal</td>\n",
       "      <td>Passenger</td>\n",
       "      <td>Personal</td>\n",
       "      <td>North</td>\n",
       "      <td>Skidding/Control Loss</td>\n",
       "      <td>Ran Off Roadway</td>\n",
       "      <td>Off Pavement - Right</td>\n",
       "      <td>Other Object</td>\n",
       "      <td>Off Pavement - Right</td>\n",
       "      <td>NaN</td>\n",
       "      <td>NaN</td>\n",
       "      <td>NaN</td>\n",
       "      <td>NaN</td>\n",
       "      <td>NaN</td>\n",
       "      <td>NaN</td>\n",
       "      <td>NaN</td>\n",
       "      <td>NaN</td>\n",
       "      <td>NaN</td>\n",
       "      <td>NaN</td>\n",
       "      <td>NaN</td>\n",
       "      <td>NaN</td>\n",
       "      <td>NaN</td>\n",
       "      <td>NaN</td>\n",
       "      <td>NaN</td>\n",
       "      <td>NaN</td>\n",
       "      <td>NaN</td>\n",
       "      <td>NaN</td>\n",
       "      <td>NaN</td>\n",
       "      <td>NaN</td>\n",
       "      <td>NaN</td>\n",
       "      <td>NaN</td>\n",
       "      <td>NaN</td>\n",
       "      <td>NaN</td>\n",
       "      <td>NaN</td>\n",
       "      <td>NaN</td>\n",
       "      <td>NaN</td>\n",
       "      <td>NaN</td>\n",
       "      <td>NaN</td>\n",
       "      <td>NaN</td>\n",
       "      <td>NaN</td>\n",
       "      <td>NaN</td>\n",
       "      <td>NaN</td>\n",
       "      <td>NaN</td>\n",
       "      <td>NaN</td>\n",
       "      <td>4.300000e+08</td>\n",
       "      <td>PD</td>\n",
       "      <td>2.173041e+06</td>\n",
       "      <td>2.124710e+06</td>\n",
       "      <td>N</td>\n",
       "      <td>X000079121</td>\n",
       "      <td>20043</td>\n",
       "      <td>2016090504</td>\n",
       "      <td>N</td>\n",
       "      <td>(N/A)</td>\n",
       "      <td>N</td>\n",
       "      <td>N</td>\n",
       "      <td>N</td>\n",
       "    </tr>\n",
       "    <tr>\n",
       "      <th>1</th>\n",
       "      <td>3601</td>\n",
       "      <td>9379</td>\n",
       "      <td>NaN</td>\n",
       "      <td>14</td>\n",
       "      <td>3</td>\n",
       "      <td>19</td>\n",
       "      <td>6</td>\n",
       "      <td>Wed</td>\n",
       "      <td>1</td>\n",
       "      <td>0</td>\n",
       "      <td>0</td>\n",
       "      <td>Fixed Object</td>\n",
       "      <td>Rain</td>\n",
       "      <td>Darkness, Lighted Road</td>\n",
       "      <td>Wet</td>\n",
       "      <td>No Defects</td>\n",
       "      <td>Not Applicable</td>\n",
       "      <td>No Controls</td>\n",
       "      <td>16</td>\n",
       "      <td>0</td>\n",
       "      <td>0</td>\n",
       "      <td>0.00</td>\n",
       "      <td>Chicago</td>\n",
       "      <td>Normal</td>\n",
       "      <td>Tractor With Semi-Trailer</td>\n",
       "      <td>Commercial-Multi-Unit</td>\n",
       "      <td>East</td>\n",
       "      <td>Turning Left</td>\n",
       "      <td>Ran Off Roadway</td>\n",
       "      <td>Other</td>\n",
       "      <td>Guardrail End</td>\n",
       "      <td>Other</td>\n",
       "      <td>NaN</td>\n",
       "      <td>NaN</td>\n",
       "      <td>NaN</td>\n",
       "      <td>NaN</td>\n",
       "      <td>NaN</td>\n",
       "      <td>NaN</td>\n",
       "      <td>NaN</td>\n",
       "      <td>NaN</td>\n",
       "      <td>NaN</td>\n",
       "      <td>NaN</td>\n",
       "      <td>NaN</td>\n",
       "      <td>NaN</td>\n",
       "      <td>NaN</td>\n",
       "      <td>NaN</td>\n",
       "      <td>NaN</td>\n",
       "      <td>NaN</td>\n",
       "      <td>NaN</td>\n",
       "      <td>NaN</td>\n",
       "      <td>NaN</td>\n",
       "      <td>NaN</td>\n",
       "      <td>NaN</td>\n",
       "      <td>NaN</td>\n",
       "      <td>NaN</td>\n",
       "      <td>NaN</td>\n",
       "      <td>NaN</td>\n",
       "      <td>NaN</td>\n",
       "      <td>NaN</td>\n",
       "      <td>NaN</td>\n",
       "      <td>NaN</td>\n",
       "      <td>NaN</td>\n",
       "      <td>NaN</td>\n",
       "      <td>NaN</td>\n",
       "      <td>NaN</td>\n",
       "      <td>NaN</td>\n",
       "      <td>NaN</td>\n",
       "      <td>1.600000e+08</td>\n",
       "      <td>PD</td>\n",
       "      <td>3.014480e+06</td>\n",
       "      <td>1.853341e+06</td>\n",
       "      <td>N</td>\n",
       "      <td>C130096841</td>\n",
       "      <td>11051</td>\n",
       "      <td>2016090504</td>\n",
       "      <td>N</td>\n",
       "      <td>(N/A)</td>\n",
       "      <td>N</td>\n",
       "      <td>N</td>\n",
       "      <td>N</td>\n",
       "    </tr>\n",
       "    <tr>\n",
       "      <th>2</th>\n",
       "      <td>4740</td>\n",
       "      <td>11829</td>\n",
       "      <td>NaN</td>\n",
       "      <td>14</td>\n",
       "      <td>1</td>\n",
       "      <td>9</td>\n",
       "      <td>21</td>\n",
       "      <td>Thu</td>\n",
       "      <td>1</td>\n",
       "      <td>0</td>\n",
       "      <td>0</td>\n",
       "      <td>Other Non-Collision</td>\n",
       "      <td>Clear</td>\n",
       "      <td>Darkness</td>\n",
       "      <td>Snow or Slush</td>\n",
       "      <td>No Defects</td>\n",
       "      <td>Not Applicable</td>\n",
       "      <td>NaN</td>\n",
       "      <td>81</td>\n",
       "      <td>8</td>\n",
       "      <td>0</td>\n",
       "      <td>0.00</td>\n",
       "      <td>Unincorporated</td>\n",
       "      <td>Normal</td>\n",
       "      <td>Passenger</td>\n",
       "      <td>Personal</td>\n",
       "      <td>West</td>\n",
       "      <td>Straight Ahead</td>\n",
       "      <td>Ran Off Roadway</td>\n",
       "      <td>Off Pavement - Left</td>\n",
       "      <td>Fire/Explosion</td>\n",
       "      <td>Off Pavement - Left</td>\n",
       "      <td>NaN</td>\n",
       "      <td>NaN</td>\n",
       "      <td>NaN</td>\n",
       "      <td>NaN</td>\n",
       "      <td>NaN</td>\n",
       "      <td>NaN</td>\n",
       "      <td>NaN</td>\n",
       "      <td>NaN</td>\n",
       "      <td>NaN</td>\n",
       "      <td>NaN</td>\n",
       "      <td>NaN</td>\n",
       "      <td>NaN</td>\n",
       "      <td>NaN</td>\n",
       "      <td>NaN</td>\n",
       "      <td>NaN</td>\n",
       "      <td>NaN</td>\n",
       "      <td>NaN</td>\n",
       "      <td>NaN</td>\n",
       "      <td>NaN</td>\n",
       "      <td>NaN</td>\n",
       "      <td>NaN</td>\n",
       "      <td>NaN</td>\n",
       "      <td>NaN</td>\n",
       "      <td>NaN</td>\n",
       "      <td>NaN</td>\n",
       "      <td>NaN</td>\n",
       "      <td>NaN</td>\n",
       "      <td>NaN</td>\n",
       "      <td>NaN</td>\n",
       "      <td>NaN</td>\n",
       "      <td>NaN</td>\n",
       "      <td>NaN</td>\n",
       "      <td>NaN</td>\n",
       "      <td>NaN</td>\n",
       "      <td>NaN</td>\n",
       "      <td>8.100000e+08</td>\n",
       "      <td>PD</td>\n",
       "      <td>2.257503e+06</td>\n",
       "      <td>1.843623e+06</td>\n",
       "      <td>Y</td>\n",
       "      <td>M2419584</td>\n",
       "      <td>20081</td>\n",
       "      <td>2016090504</td>\n",
       "      <td>N</td>\n",
       "      <td>(N/A)</td>\n",
       "      <td>N</td>\n",
       "      <td>N</td>\n",
       "      <td>N</td>\n",
       "    </tr>\n",
       "    <tr>\n",
       "      <th>3</th>\n",
       "      <td>6347</td>\n",
       "      <td>15999</td>\n",
       "      <td>IL084</td>\n",
       "      <td>14</td>\n",
       "      <td>5</td>\n",
       "      <td>10</td>\n",
       "      <td>14</td>\n",
       "      <td>Sat</td>\n",
       "      <td>2</td>\n",
       "      <td>1</td>\n",
       "      <td>0</td>\n",
       "      <td>Rear End</td>\n",
       "      <td>Clear</td>\n",
       "      <td>Daylight</td>\n",
       "      <td>Dry</td>\n",
       "      <td>No Defects</td>\n",
       "      <td>Not Applicable</td>\n",
       "      <td>No Controls</td>\n",
       "      <td>98</td>\n",
       "      <td>1</td>\n",
       "      <td>5084</td>\n",
       "      <td>30.16</td>\n",
       "      <td>Albany</td>\n",
       "      <td>Normal</td>\n",
       "      <td>Passenger</td>\n",
       "      <td>Personal</td>\n",
       "      <td>South</td>\n",
       "      <td>Straight Ahead</td>\n",
       "      <td>Motor Vehicle In Traffic</td>\n",
       "      <td>On Pavement (Roadway)</td>\n",
       "      <td>NaN</td>\n",
       "      <td>NaN</td>\n",
       "      <td>NaN</td>\n",
       "      <td>NaN</td>\n",
       "      <td>Normal</td>\n",
       "      <td>Passenger</td>\n",
       "      <td>Personal</td>\n",
       "      <td>South</td>\n",
       "      <td>Slow/Stop - Left Turn</td>\n",
       "      <td>Motor Vehicle In Traffic</td>\n",
       "      <td>On Pavement (Roadway)</td>\n",
       "      <td>NaN</td>\n",
       "      <td>NaN</td>\n",
       "      <td>NaN</td>\n",
       "      <td>NaN</td>\n",
       "      <td>NaN</td>\n",
       "      <td>NaN</td>\n",
       "      <td>NaN</td>\n",
       "      <td>NaN</td>\n",
       "      <td>NaN</td>\n",
       "      <td>NaN</td>\n",
       "      <td>NaN</td>\n",
       "      <td>NaN</td>\n",
       "      <td>NaN</td>\n",
       "      <td>NaN</td>\n",
       "      <td>NaN</td>\n",
       "      <td>NaN</td>\n",
       "      <td>NaN</td>\n",
       "      <td>NaN</td>\n",
       "      <td>NaN</td>\n",
       "      <td>NaN</td>\n",
       "      <td>NaN</td>\n",
       "      <td>NaN</td>\n",
       "      <td>NaN</td>\n",
       "      <td>NaN</td>\n",
       "      <td>NaN</td>\n",
       "      <td>NaN</td>\n",
       "      <td>9.850840e+08</td>\n",
       "      <td>B-Injury</td>\n",
       "      <td>2.280847e+06</td>\n",
       "      <td>1.865087e+06</td>\n",
       "      <td>Y</td>\n",
       "      <td>M2443053</td>\n",
       "      <td>30001</td>\n",
       "      <td>2016090504</td>\n",
       "      <td>N</td>\n",
       "      <td>(N/A)</td>\n",
       "      <td>N</td>\n",
       "      <td>N</td>\n",
       "      <td>N</td>\n",
       "    </tr>\n",
       "    <tr>\n",
       "      <th>4</th>\n",
       "      <td>10776</td>\n",
       "      <td>28882</td>\n",
       "      <td>NaN</td>\n",
       "      <td>14</td>\n",
       "      <td>4</td>\n",
       "      <td>28</td>\n",
       "      <td>17</td>\n",
       "      <td>Mon</td>\n",
       "      <td>2</td>\n",
       "      <td>0</td>\n",
       "      <td>0</td>\n",
       "      <td>Sideswipe Same Direction</td>\n",
       "      <td>Rain</td>\n",
       "      <td>Daylight</td>\n",
       "      <td>NaN</td>\n",
       "      <td>No Defects</td>\n",
       "      <td>Not Applicable</td>\n",
       "      <td>No Controls</td>\n",
       "      <td>16</td>\n",
       "      <td>0</td>\n",
       "      <td>0</td>\n",
       "      <td>0.00</td>\n",
       "      <td>Chicago</td>\n",
       "      <td>Normal</td>\n",
       "      <td>Tractor With Semi-Trailer</td>\n",
       "      <td>Other</td>\n",
       "      <td>South</td>\n",
       "      <td>Straight Ahead</td>\n",
       "      <td>Motor Vehicle In Traffic</td>\n",
       "      <td>On Pavement (Roadway)</td>\n",
       "      <td>NaN</td>\n",
       "      <td>NaN</td>\n",
       "      <td>NaN</td>\n",
       "      <td>NaN</td>\n",
       "      <td>Normal</td>\n",
       "      <td>Passenger</td>\n",
       "      <td>Personal</td>\n",
       "      <td>South</td>\n",
       "      <td>Straight Ahead</td>\n",
       "      <td>Motor Vehicle In Traffic</td>\n",
       "      <td>On Pavement (Roadway)</td>\n",
       "      <td>NaN</td>\n",
       "      <td>NaN</td>\n",
       "      <td>NaN</td>\n",
       "      <td>NaN</td>\n",
       "      <td>NaN</td>\n",
       "      <td>NaN</td>\n",
       "      <td>NaN</td>\n",
       "      <td>NaN</td>\n",
       "      <td>NaN</td>\n",
       "      <td>NaN</td>\n",
       "      <td>NaN</td>\n",
       "      <td>NaN</td>\n",
       "      <td>NaN</td>\n",
       "      <td>NaN</td>\n",
       "      <td>NaN</td>\n",
       "      <td>NaN</td>\n",
       "      <td>NaN</td>\n",
       "      <td>NaN</td>\n",
       "      <td>NaN</td>\n",
       "      <td>NaN</td>\n",
       "      <td>NaN</td>\n",
       "      <td>NaN</td>\n",
       "      <td>NaN</td>\n",
       "      <td>NaN</td>\n",
       "      <td>NaN</td>\n",
       "      <td>NaN</td>\n",
       "      <td>1.600000e+08</td>\n",
       "      <td>PD</td>\n",
       "      <td>3.015045e+06</td>\n",
       "      <td>1.848749e+06</td>\n",
       "      <td>N</td>\n",
       "      <td>C110178811</td>\n",
       "      <td>11051</td>\n",
       "      <td>2016090504</td>\n",
       "      <td>N</td>\n",
       "      <td>(N/A)</td>\n",
       "      <td>N</td>\n",
       "      <td>N</td>\n",
       "      <td>N</td>\n",
       "    </tr>\n",
       "  </tbody>\n",
       "</table>\n",
       "</div>"
      ],
      "text/plain": [
       "  OBJECTID  geodb_oid  ROUTE  YEAR  MONTH  DAY  HOUR DAY_O_WEEK  NUM_VEH  \\\n",
       "0     1894       5331    NaN    14      3    5    12        Wed        1   \n",
       "1     3601       9379    NaN    14      3   19     6        Wed        1   \n",
       "2     4740      11829    NaN    14      1    9    21        Thu        1   \n",
       "3     6347      15999  IL084    14      5   10    14        Sat        2   \n",
       "4    10776      28882    NaN    14      4   28    17        Mon        2   \n",
       "\n",
       "   INJURIES  FATALITIES                 COLL_TYPE WEATHER  \\\n",
       "0         0           0              Other Object   Clear   \n",
       "1         0           0              Fixed Object    Rain   \n",
       "2         0           0       Other Non-Collision   Clear   \n",
       "3         1           0                  Rear End   Clear   \n",
       "4         0           0  Sideswipe Same Direction    Rain   \n",
       "\n",
       "                 LIGHTING      SURF_COND   RD_DEFECT      RD_FEATURE  \\\n",
       "0                Daylight  Snow or Slush  No Defects  Not Applicable   \n",
       "1  Darkness, Lighted Road            Wet  No Defects  Not Applicable   \n",
       "2                Darkness  Snow or Slush  No Defects  Not Applicable   \n",
       "3                Daylight            Dry  No Defects  Not Applicable   \n",
       "4                Daylight            NaN  No Defects  Not Applicable   \n",
       "\n",
       "    TRAF_CNTRL  COUNTY TOWNSHIP  TS_ROUTE   MILE            CITY DRIVER_1  \\\n",
       "0  No Controls      43        5         0   0.00  Unincorporated   Normal   \n",
       "1  No Controls      16        0         0   0.00         Chicago   Normal   \n",
       "2          NaN      81        8         0   0.00  Unincorporated   Normal   \n",
       "3  No Controls      98        1      5084  30.16          Albany   Normal   \n",
       "4  No Controls      16        0         0   0.00         Chicago   Normal   \n",
       "\n",
       "                   VEH1_TYPE             VEH1_SPECL VEH1_DIR  \\\n",
       "0                  Passenger               Personal    North   \n",
       "1  Tractor With Semi-Trailer  Commercial-Multi-Unit     East   \n",
       "2                  Passenger               Personal     West   \n",
       "3                  Passenger               Personal    South   \n",
       "4  Tractor With Semi-Trailer                  Other    South   \n",
       "\n",
       "              VEH1_MANUV                VEH1_EVNT1              VEH1_LOC1  \\\n",
       "0  Skidding/Control Loss           Ran Off Roadway   Off Pavement - Right   \n",
       "1           Turning Left           Ran Off Roadway                  Other   \n",
       "2         Straight Ahead           Ran Off Roadway    Off Pavement - Left   \n",
       "3         Straight Ahead  Motor Vehicle In Traffic  On Pavement (Roadway)   \n",
       "4         Straight Ahead  Motor Vehicle In Traffic  On Pavement (Roadway)   \n",
       "\n",
       "       VEH1_EVNT2             VEH1_LOC2 VEH1_EVNT3 VEH1_LOC3 DRIVER_2  \\\n",
       "0    Other Object  Off Pavement - Right        NaN       NaN      NaN   \n",
       "1   Guardrail End                 Other        NaN       NaN      NaN   \n",
       "2  Fire/Explosion   Off Pavement - Left        NaN       NaN      NaN   \n",
       "3             NaN                   NaN        NaN       NaN   Normal   \n",
       "4             NaN                   NaN        NaN       NaN   Normal   \n",
       "\n",
       "   VEH2_TYPE VEH2_SPECL VEH2_DIR             VEH2_MANUV  \\\n",
       "0        NaN        NaN      NaN                    NaN   \n",
       "1        NaN        NaN      NaN                    NaN   \n",
       "2        NaN        NaN      NaN                    NaN   \n",
       "3  Passenger   Personal    South  Slow/Stop - Left Turn   \n",
       "4  Passenger   Personal    South         Straight Ahead   \n",
       "\n",
       "                 VEH2_EVNT1              VEH2_LOC1 VEH2_EVNT2 VEH2_LOC2  \\\n",
       "0                       NaN                    NaN        NaN       NaN   \n",
       "1                       NaN                    NaN        NaN       NaN   \n",
       "2                       NaN                    NaN        NaN       NaN   \n",
       "3  Motor Vehicle In Traffic  On Pavement (Roadway)        NaN       NaN   \n",
       "4  Motor Vehicle In Traffic  On Pavement (Roadway)        NaN       NaN   \n",
       "\n",
       "  VEH2_EVNT3 VEH2_LOC3 DRIVER_3 VEH3_TYPE VEH3_SPECL VEH3_DIR VEH3_MANUV  \\\n",
       "0        NaN       NaN      NaN       NaN        NaN      NaN        NaN   \n",
       "1        NaN       NaN      NaN       NaN        NaN      NaN        NaN   \n",
       "2        NaN       NaN      NaN       NaN        NaN      NaN        NaN   \n",
       "3        NaN       NaN      NaN       NaN        NaN      NaN        NaN   \n",
       "4        NaN       NaN      NaN       NaN        NaN      NaN        NaN   \n",
       "\n",
       "  VEH3_EVNT1 VEH3_LOC1 VEH3_EVNT2 VEH3_LOC2 VEH3_EVNT3 VEH3_LOC3 DRIVER_4  \\\n",
       "0        NaN       NaN        NaN       NaN        NaN       NaN      NaN   \n",
       "1        NaN       NaN        NaN       NaN        NaN       NaN      NaN   \n",
       "2        NaN       NaN        NaN       NaN        NaN       NaN      NaN   \n",
       "3        NaN       NaN        NaN       NaN        NaN       NaN      NaN   \n",
       "4        NaN       NaN        NaN       NaN        NaN       NaN      NaN   \n",
       "\n",
       "  VEH4_TYPE VEH4_SPECL VEH4_DIR VEH4_MANUV VEH4_EVNT1 VEH4_LOC1 VEH4_EVNT2  \\\n",
       "0       NaN        NaN      NaN        NaN        NaN       NaN        NaN   \n",
       "1       NaN        NaN      NaN        NaN        NaN       NaN        NaN   \n",
       "2       NaN        NaN      NaN        NaN        NaN       NaN        NaN   \n",
       "3       NaN        NaN      NaN        NaN        NaN       NaN        NaN   \n",
       "4       NaN        NaN      NaN        NaN        NaN       NaN        NaN   \n",
       "\n",
       "  VEH4_LOC2 VEH4_EVNT3 VEH4_LOC3        DUP_CD  REC_TYPE        XCOORD  \\\n",
       "0       NaN        NaN       NaN  4.300000e+08        PD  2.173041e+06   \n",
       "1       NaN        NaN       NaN  1.600000e+08        PD  3.014480e+06   \n",
       "2       NaN        NaN       NaN  8.100000e+08        PD  2.257503e+06   \n",
       "3       NaN        NaN       NaN  9.850840e+08  B-Injury  2.280847e+06   \n",
       "4       NaN        NaN       NaN  1.600000e+08        PD  3.015045e+06   \n",
       "\n",
       "         YCOORD INTERSEC         SFE  AGENCY_NUM     RUNDATE WorkZone  \\\n",
       "0  2.124710e+06        N  X000079121       20043  2016090504        N   \n",
       "1  1.853341e+06        N  C130096841       11051  2016090504        N   \n",
       "2  1.843623e+06        Y    M2419584       20081  2016090504        N   \n",
       "3  1.865087e+06        Y    M2443053       30001  2016090504        N   \n",
       "4  1.848749e+06        N  C110178811       11051  2016090504        N   \n",
       "\n",
       "  WorkZoneTy WorkersPre ExceedSpee CellPhoneU  \n",
       "0      (N/A)          N          N          N  \n",
       "1      (N/A)          N          N          N  \n",
       "2      (N/A)          N          N          N  \n",
       "3      (N/A)          N          N          N  \n",
       "4      (N/A)          N          N          N  "
      ]
     },
     "execution_count": 4,
     "metadata": {},
     "output_type": "execute_result"
    }
   ],
   "source": [
    "car.head(5)"
   ]
  },
  {
   "cell_type": "code",
   "execution_count": 5,
   "id": "forward-while",
   "metadata": {
    "ExecuteTime": {
     "end_time": "2021-04-14T22:43:21.036290Z",
     "start_time": "2021-04-14T22:43:20.747210Z"
    }
   },
   "outputs": [
    {
     "data": {
      "text/html": [
       "<div>\n",
       "<style scoped>\n",
       "    .dataframe tbody tr th:only-of-type {\n",
       "        vertical-align: middle;\n",
       "    }\n",
       "\n",
       "    .dataframe tbody tr th {\n",
       "        vertical-align: top;\n",
       "    }\n",
       "\n",
       "    .dataframe thead th {\n",
       "        text-align: right;\n",
       "    }\n",
       "</style>\n",
       "<table border=\"1\" class=\"dataframe\">\n",
       "  <thead>\n",
       "    <tr style=\"text-align: right;\">\n",
       "      <th></th>\n",
       "      <th>geodb_oid</th>\n",
       "      <th>YEAR</th>\n",
       "      <th>MONTH</th>\n",
       "      <th>DAY</th>\n",
       "      <th>HOUR</th>\n",
       "      <th>NUM_VEH</th>\n",
       "      <th>INJURIES</th>\n",
       "      <th>FATALITIES</th>\n",
       "      <th>COUNTY</th>\n",
       "      <th>TS_ROUTE</th>\n",
       "      <th>MILE</th>\n",
       "      <th>DUP_CD</th>\n",
       "      <th>XCOORD</th>\n",
       "      <th>YCOORD</th>\n",
       "      <th>AGENCY_NUM</th>\n",
       "      <th>RUNDATE</th>\n",
       "    </tr>\n",
       "  </thead>\n",
       "  <tbody>\n",
       "    <tr>\n",
       "      <th>count</th>\n",
       "      <td>2.920190e+05</td>\n",
       "      <td>292019.0</td>\n",
       "      <td>292019.000000</td>\n",
       "      <td>292019.000000</td>\n",
       "      <td>292019.000000</td>\n",
       "      <td>292019.000000</td>\n",
       "      <td>292019.000000</td>\n",
       "      <td>292019.000000</td>\n",
       "      <td>292019.000000</td>\n",
       "      <td>292019.000000</td>\n",
       "      <td>292019.000000</td>\n",
       "      <td>2.920190e+05</td>\n",
       "      <td>2.920190e+05</td>\n",
       "      <td>2.920190e+05</td>\n",
       "      <td>292019.000000</td>\n",
       "      <td>2.920190e+05</td>\n",
       "    </tr>\n",
       "    <tr>\n",
       "      <th>mean</th>\n",
       "      <td>5.653341e+05</td>\n",
       "      <td>14.0</td>\n",
       "      <td>6.438341</td>\n",
       "      <td>15.352614</td>\n",
       "      <td>13.017300</td>\n",
       "      <td>1.869991</td>\n",
       "      <td>0.287392</td>\n",
       "      <td>0.003137</td>\n",
       "      <td>36.611871</td>\n",
       "      <td>2013.419617</td>\n",
       "      <td>30.620734</td>\n",
       "      <td>3.681322e+08</td>\n",
       "      <td>2.807454e+06</td>\n",
       "      <td>1.712982e+06</td>\n",
       "      <td>15899.361422</td>\n",
       "      <td>2.016091e+09</td>\n",
       "    </tr>\n",
       "    <tr>\n",
       "      <th>std</th>\n",
       "      <td>1.067269e+06</td>\n",
       "      <td>0.0</td>\n",
       "      <td>3.571892</td>\n",
       "      <td>8.755899</td>\n",
       "      <td>5.594693</td>\n",
       "      <td>0.580815</td>\n",
       "      <td>0.677750</td>\n",
       "      <td>0.061629</td>\n",
       "      <td>28.735929</td>\n",
       "      <td>3089.644853</td>\n",
       "      <td>64.296513</td>\n",
       "      <td>2.875539e+08</td>\n",
       "      <td>2.241654e+05</td>\n",
       "      <td>4.066943e+05</td>\n",
       "      <td>7250.743849</td>\n",
       "      <td>0.000000e+00</td>\n",
       "    </tr>\n",
       "    <tr>\n",
       "      <th>min</th>\n",
       "      <td>3.000000e+00</td>\n",
       "      <td>14.0</td>\n",
       "      <td>1.000000</td>\n",
       "      <td>1.000000</td>\n",
       "      <td>0.000000</td>\n",
       "      <td>1.000000</td>\n",
       "      <td>0.000000</td>\n",
       "      <td>0.000000</td>\n",
       "      <td>1.000000</td>\n",
       "      <td>0.000000</td>\n",
       "      <td>0.000000</td>\n",
       "      <td>1.000000e+07</td>\n",
       "      <td>1.927759e+06</td>\n",
       "      <td>1.152106e+05</td>\n",
       "      <td>10005.000000</td>\n",
       "      <td>2.016091e+09</td>\n",
       "    </tr>\n",
       "    <tr>\n",
       "      <th>25%</th>\n",
       "      <td>1.380425e+05</td>\n",
       "      <td>14.0</td>\n",
       "      <td>3.000000</td>\n",
       "      <td>8.000000</td>\n",
       "      <td>9.000000</td>\n",
       "      <td>2.000000</td>\n",
       "      <td>0.000000</td>\n",
       "      <td>0.000000</td>\n",
       "      <td>16.000000</td>\n",
       "      <td>0.000000</td>\n",
       "      <td>0.000000</td>\n",
       "      <td>1.600000e+08</td>\n",
       "      <td>2.755127e+06</td>\n",
       "      <td>1.752016e+06</td>\n",
       "      <td>11051.000000</td>\n",
       "      <td>2.016091e+09</td>\n",
       "    </tr>\n",
       "    <tr>\n",
       "      <th>50%</th>\n",
       "      <td>2.143260e+05</td>\n",
       "      <td>14.0</td>\n",
       "      <td>6.000000</td>\n",
       "      <td>15.000000</td>\n",
       "      <td>14.000000</td>\n",
       "      <td>2.000000</td>\n",
       "      <td>0.000000</td>\n",
       "      <td>0.000000</td>\n",
       "      <td>16.000000</td>\n",
       "      <td>0.000000</td>\n",
       "      <td>0.000000</td>\n",
       "      <td>1.690941e+08</td>\n",
       "      <td>2.902607e+06</td>\n",
       "      <td>1.880197e+06</td>\n",
       "      <td>13300.000000</td>\n",
       "      <td>2.016091e+09</td>\n",
       "    </tr>\n",
       "    <tr>\n",
       "      <th>75%</th>\n",
       "      <td>3.192835e+05</td>\n",
       "      <td>14.0</td>\n",
       "      <td>10.000000</td>\n",
       "      <td>23.000000</td>\n",
       "      <td>17.000000</td>\n",
       "      <td>2.000000</td>\n",
       "      <td>0.000000</td>\n",
       "      <td>0.000000</td>\n",
       "      <td>54.000000</td>\n",
       "      <td>5025.000000</td>\n",
       "      <td>30.940000</td>\n",
       "      <td>5.420550e+08</td>\n",
       "      <td>2.963601e+06</td>\n",
       "      <td>1.935079e+06</td>\n",
       "      <td>20011.000000</td>\n",
       "      <td>2.016091e+09</td>\n",
       "    </tr>\n",
       "    <tr>\n",
       "      <th>max</th>\n",
       "      <td>3.768305e+06</td>\n",
       "      <td>14.0</td>\n",
       "      <td>12.000000</td>\n",
       "      <td>31.000000</td>\n",
       "      <td>23.000000</td>\n",
       "      <td>15.000000</td>\n",
       "      <td>54.000000</td>\n",
       "      <td>5.000000</td>\n",
       "      <td>102.000000</td>\n",
       "      <td>9474.000000</td>\n",
       "      <td>424.630000</td>\n",
       "      <td>1.029074e+09</td>\n",
       "      <td>3.051970e+06</td>\n",
       "      <td>2.130862e+06</td>\n",
       "      <td>99999.000000</td>\n",
       "      <td>2.016091e+09</td>\n",
       "    </tr>\n",
       "  </tbody>\n",
       "</table>\n",
       "</div>"
      ],
      "text/plain": [
       "          geodb_oid      YEAR          MONTH            DAY           HOUR  \\\n",
       "count  2.920190e+05  292019.0  292019.000000  292019.000000  292019.000000   \n",
       "mean   5.653341e+05      14.0       6.438341      15.352614      13.017300   \n",
       "std    1.067269e+06       0.0       3.571892       8.755899       5.594693   \n",
       "min    3.000000e+00      14.0       1.000000       1.000000       0.000000   \n",
       "25%    1.380425e+05      14.0       3.000000       8.000000       9.000000   \n",
       "50%    2.143260e+05      14.0       6.000000      15.000000      14.000000   \n",
       "75%    3.192835e+05      14.0      10.000000      23.000000      17.000000   \n",
       "max    3.768305e+06      14.0      12.000000      31.000000      23.000000   \n",
       "\n",
       "             NUM_VEH       INJURIES     FATALITIES         COUNTY  \\\n",
       "count  292019.000000  292019.000000  292019.000000  292019.000000   \n",
       "mean        1.869991       0.287392       0.003137      36.611871   \n",
       "std         0.580815       0.677750       0.061629      28.735929   \n",
       "min         1.000000       0.000000       0.000000       1.000000   \n",
       "25%         2.000000       0.000000       0.000000      16.000000   \n",
       "50%         2.000000       0.000000       0.000000      16.000000   \n",
       "75%         2.000000       0.000000       0.000000      54.000000   \n",
       "max        15.000000      54.000000       5.000000     102.000000   \n",
       "\n",
       "            TS_ROUTE           MILE        DUP_CD        XCOORD        YCOORD  \\\n",
       "count  292019.000000  292019.000000  2.920190e+05  2.920190e+05  2.920190e+05   \n",
       "mean     2013.419617      30.620734  3.681322e+08  2.807454e+06  1.712982e+06   \n",
       "std      3089.644853      64.296513  2.875539e+08  2.241654e+05  4.066943e+05   \n",
       "min         0.000000       0.000000  1.000000e+07  1.927759e+06  1.152106e+05   \n",
       "25%         0.000000       0.000000  1.600000e+08  2.755127e+06  1.752016e+06   \n",
       "50%         0.000000       0.000000  1.690941e+08  2.902607e+06  1.880197e+06   \n",
       "75%      5025.000000      30.940000  5.420550e+08  2.963601e+06  1.935079e+06   \n",
       "max      9474.000000     424.630000  1.029074e+09  3.051970e+06  2.130862e+06   \n",
       "\n",
       "          AGENCY_NUM       RUNDATE  \n",
       "count  292019.000000  2.920190e+05  \n",
       "mean    15899.361422  2.016091e+09  \n",
       "std      7250.743849  0.000000e+00  \n",
       "min     10005.000000  2.016091e+09  \n",
       "25%     11051.000000  2.016091e+09  \n",
       "50%     13300.000000  2.016091e+09  \n",
       "75%     20011.000000  2.016091e+09  \n",
       "max     99999.000000  2.016091e+09  "
      ]
     },
     "execution_count": 5,
     "metadata": {},
     "output_type": "execute_result"
    }
   ],
   "source": [
    "car.describe()"
   ]
  },
  {
   "cell_type": "code",
   "execution_count": 6,
   "id": "expanded-aruba",
   "metadata": {
    "ExecuteTime": {
     "end_time": "2021-04-14T22:43:35.040243Z",
     "start_time": "2021-04-14T22:43:34.924264Z"
    }
   },
   "outputs": [
    {
     "data": {
      "text/html": [
       "<div>\n",
       "<style scoped>\n",
       "    .dataframe tbody tr th:only-of-type {\n",
       "        vertical-align: middle;\n",
       "    }\n",
       "\n",
       "    .dataframe tbody tr th {\n",
       "        vertical-align: top;\n",
       "    }\n",
       "\n",
       "    .dataframe thead th {\n",
       "        text-align: right;\n",
       "    }\n",
       "</style>\n",
       "<table border=\"1\" class=\"dataframe\">\n",
       "  <thead>\n",
       "    <tr style=\"text-align: right;\">\n",
       "      <th></th>\n",
       "      <th>HOUR</th>\n",
       "      <th>CellPhoneU</th>\n",
       "    </tr>\n",
       "  </thead>\n",
       "  <tbody>\n",
       "    <tr>\n",
       "      <th>0</th>\n",
       "      <td>12</td>\n",
       "      <td>N</td>\n",
       "    </tr>\n",
       "    <tr>\n",
       "      <th>1</th>\n",
       "      <td>6</td>\n",
       "      <td>N</td>\n",
       "    </tr>\n",
       "    <tr>\n",
       "      <th>2</th>\n",
       "      <td>21</td>\n",
       "      <td>N</td>\n",
       "    </tr>\n",
       "    <tr>\n",
       "      <th>3</th>\n",
       "      <td>14</td>\n",
       "      <td>N</td>\n",
       "    </tr>\n",
       "    <tr>\n",
       "      <th>4</th>\n",
       "      <td>17</td>\n",
       "      <td>N</td>\n",
       "    </tr>\n",
       "    <tr>\n",
       "      <th>27898</th>\n",
       "      <td>16</td>\n",
       "      <td>Y</td>\n",
       "    </tr>\n",
       "    <tr>\n",
       "      <th>158002</th>\n",
       "      <td>13</td>\n",
       "      <td>Y</td>\n",
       "    </tr>\n",
       "    <tr>\n",
       "      <th>177668</th>\n",
       "      <td>15</td>\n",
       "      <td>Y</td>\n",
       "    </tr>\n",
       "    <tr>\n",
       "      <th>177680</th>\n",
       "      <td>15</td>\n",
       "      <td>Y</td>\n",
       "    </tr>\n",
       "    <tr>\n",
       "      <th>221031</th>\n",
       "      <td>17</td>\n",
       "      <td>Y</td>\n",
       "    </tr>\n",
       "  </tbody>\n",
       "</table>\n",
       "</div>"
      ],
      "text/plain": [
       "        HOUR CellPhoneU\n",
       "0         12          N\n",
       "1          6          N\n",
       "2         21          N\n",
       "3         14          N\n",
       "4         17          N\n",
       "27898     16          Y\n",
       "158002    13          Y\n",
       "177668    15          Y\n",
       "177680    15          Y\n",
       "221031    17          Y"
      ]
     },
     "execution_count": 6,
     "metadata": {},
     "output_type": "execute_result"
    }
   ],
   "source": [
    "car['REC_TYPE'].fillna('NDI', inplace = True)\n",
    "cu = car[[\"HOUR\",\"CellPhoneU\"]]\n",
    "cu = cu.groupby(\"CellPhoneU\")\n",
    "cu.head()"
   ]
  },
  {
   "cell_type": "code",
   "execution_count": 8,
   "id": "material-plate",
   "metadata": {
    "ExecuteTime": {
     "end_time": "2021-04-14T22:43:55.042989Z",
     "start_time": "2021-04-14T22:43:54.945043Z"
    }
   },
   "outputs": [
    {
     "data": {
      "text/html": [
       "<div>\n",
       "<style scoped>\n",
       "    .dataframe tbody tr th:only-of-type {\n",
       "        vertical-align: middle;\n",
       "    }\n",
       "\n",
       "    .dataframe tbody tr th {\n",
       "        vertical-align: top;\n",
       "    }\n",
       "\n",
       "    .dataframe thead th {\n",
       "        text-align: right;\n",
       "    }\n",
       "</style>\n",
       "<table border=\"1\" class=\"dataframe\">\n",
       "  <thead>\n",
       "    <tr style=\"text-align: right;\">\n",
       "      <th></th>\n",
       "      <th>HOUR</th>\n",
       "      <th>ExceedSpee</th>\n",
       "    </tr>\n",
       "  </thead>\n",
       "  <tbody>\n",
       "    <tr>\n",
       "      <th>0</th>\n",
       "      <td>12</td>\n",
       "      <td>N</td>\n",
       "    </tr>\n",
       "    <tr>\n",
       "      <th>1</th>\n",
       "      <td>6</td>\n",
       "      <td>N</td>\n",
       "    </tr>\n",
       "    <tr>\n",
       "      <th>2</th>\n",
       "      <td>21</td>\n",
       "      <td>N</td>\n",
       "    </tr>\n",
       "    <tr>\n",
       "      <th>3</th>\n",
       "      <td>14</td>\n",
       "      <td>N</td>\n",
       "    </tr>\n",
       "    <tr>\n",
       "      <th>4</th>\n",
       "      <td>17</td>\n",
       "      <td>N</td>\n",
       "    </tr>\n",
       "    <tr>\n",
       "      <th>22</th>\n",
       "      <td>1</td>\n",
       "      <td>Y</td>\n",
       "    </tr>\n",
       "    <tr>\n",
       "      <th>58</th>\n",
       "      <td>4</td>\n",
       "      <td>Y</td>\n",
       "    </tr>\n",
       "    <tr>\n",
       "      <th>65</th>\n",
       "      <td>8</td>\n",
       "      <td>Y</td>\n",
       "    </tr>\n",
       "    <tr>\n",
       "      <th>270</th>\n",
       "      <td>8</td>\n",
       "      <td>Y</td>\n",
       "    </tr>\n",
       "    <tr>\n",
       "      <th>302</th>\n",
       "      <td>11</td>\n",
       "      <td>Y</td>\n",
       "    </tr>\n",
       "  </tbody>\n",
       "</table>\n",
       "</div>"
      ],
      "text/plain": [
       "     HOUR ExceedSpee\n",
       "0      12          N\n",
       "1       6          N\n",
       "2      21          N\n",
       "3      14          N\n",
       "4      17          N\n",
       "22      1          Y\n",
       "58      4          Y\n",
       "65      8          Y\n",
       "270     8          Y\n",
       "302    11          Y"
      ]
     },
     "execution_count": 8,
     "metadata": {},
     "output_type": "execute_result"
    }
   ],
   "source": [
    "car['REC_TYPE'].fillna('NDI', inplace = True)\n",
    "eu = car[[\"HOUR\",\"ExceedSpee\"]]\n",
    "eu = eu.groupby(\"ExceedSpee\")\n",
    "eu.head()"
   ]
  },
  {
   "cell_type": "code",
   "execution_count": 35,
   "id": "widespread-skill",
   "metadata": {
    "ExecuteTime": {
     "end_time": "2021-04-14T23:15:21.088255Z",
     "start_time": "2021-04-14T23:15:20.438293Z"
    }
   },
   "outputs": [
    {
     "data": {
      "image/png": "[encoded data removed]",
      "text/plain": [
       "<Figure size 432x288 with 1 Axes>"
      ]
     },
     "metadata": {
      "needs_background": "light"
     },
     "output_type": "display_data"
    },
    {
     "data": {
      "image/png": "[encoded data removed]",
      "text/plain": [
       "<Figure size 432x288 with 1 Axes>"
      ]
     },
     "metadata": {
      "needs_background": "light"
     },
     "output_type": "display_data"
    }
   ],
   "source": [
    "cu.hist(by = 'CellPhoneU', bins = 24, label = 'N', alpha = 0.5, color = 'b' )\n",
    "plt.yticks(range(0,3))\n",
    "plt.xlabel(\"Hour\")\n",
    "plt.ylabel(\"Count\")\n",
    "plt.title(\"Cell Use = Y\")\n",
    "plt.show()"
   ]
  },
  {
   "cell_type": "code",
   "execution_count": 38,
   "id": "continent-kruger",
   "metadata": {
    "ExecuteTime": {
     "end_time": "2021-04-14T23:20:28.927298Z",
     "start_time": "2021-04-14T23:20:28.290773Z"
    }
   },
   "outputs": [
    {
     "data": {
      "image/png": "[encoded data removed]",
      "text/plain": [
       "<Figure size 432x288 with 1 Axes>"
      ]
     },
     "metadata": {
      "needs_background": "light"
     },
     "output_type": "display_data"
    },
    {
     "data": {
      "image/png": "[encoded data removed]",
      "text/plain": [
       "<Figure size 432x288 with 1 Axes>"
      ]
     },
     "metadata": {
      "needs_background": "light"
     },
     "output_type": "display_data"
    }
   ],
   "source": [
    "eu.hist(by = 'ExceedSpee', bins = 24, label = 'Y', alpha = 0.5, color = 'b' )\n",
    "plt.xlabel(\"Hour\")\n",
    "plt.ylabel(\"Count\")\n",
    "plt.title(\"Excess Speed = Y\")\n",
    "plt.show()\n",
    "plt.show()"
   ]
  },
  {
   "cell_type": "code",
   "execution_count": 39,
   "id": "soviet-frederick",
   "metadata": {
    "ExecuteTime": {
     "end_time": "2021-04-15T02:33:51.337606Z",
     "start_time": "2021-04-15T02:33:50.671218Z"
    }
   },
   "outputs": [
    {
     "data": {
      "image/png": "[encoded data removed]",
      "text/plain": [
       "<Figure size 432x288 with 1 Axes>"
      ]
     },
     "metadata": {
      "needs_background": "light"
     },
     "output_type": "display_data"
    },
    {
     "data": {
      "image/png": "[encoded data removed]",
      "text/plain": [
       "<Figure size 432x288 with 1 Axes>"
      ]
     },
     "metadata": {
      "needs_background": "light"
     },
     "output_type": "display_data"
    }
   ],
   "source": [
    "cu.hist(by = 'CellPhoneU', bins = 24, label = 'Y', alpha = 0.5, color = 'b' )\n",
    "plt.show()"
   ]
  },
  {
   "cell_type": "code",
   "execution_count": 40,
   "id": "advanced-announcement",
   "metadata": {
    "ExecuteTime": {
     "end_time": "2021-04-15T02:33:52.150361Z",
     "start_time": "2021-04-15T02:33:51.505352Z"
    }
   },
   "outputs": [
    {
     "data": {
      "text/html": [
       "<div>\n",
       "<style scoped>\n",
       "    .dataframe tbody tr th:only-of-type {\n",
       "        vertical-align: middle;\n",
       "    }\n",
       "\n",
       "    .dataframe tbody tr th {\n",
       "        vertical-align: top;\n",
       "    }\n",
       "\n",
       "    .dataframe thead th {\n",
       "        text-align: right;\n",
       "    }\n",
       "</style>\n",
       "<table border=\"1\" class=\"dataframe\">\n",
       "  <thead>\n",
       "    <tr style=\"text-align: right;\">\n",
       "      <th></th>\n",
       "      <th>OBJECTID</th>\n",
       "      <th>geodb_oid</th>\n",
       "      <th>ROUTE</th>\n",
       "      <th>YEAR</th>\n",
       "      <th>MONTH</th>\n",
       "      <th>DAY</th>\n",
       "      <th>HOUR</th>\n",
       "      <th>DAY_O_WEEK</th>\n",
       "      <th>NUM_VEH</th>\n",
       "      <th>INJURIES</th>\n",
       "      <th>FATALITIES</th>\n",
       "      <th>COLL_TYPE</th>\n",
       "      <th>WEATHER</th>\n",
       "      <th>LIGHTING</th>\n",
       "      <th>SURF_COND</th>\n",
       "      <th>RD_DEFECT</th>\n",
       "      <th>RD_FEATURE</th>\n",
       "      <th>TRAF_CNTRL</th>\n",
       "      <th>COUNTY</th>\n",
       "      <th>TOWNSHIP</th>\n",
       "      <th>TS_ROUTE</th>\n",
       "      <th>MILE</th>\n",
       "      <th>CITY</th>\n",
       "      <th>DRIVER_1</th>\n",
       "      <th>VEH1_TYPE</th>\n",
       "      <th>VEH1_SPECL</th>\n",
       "      <th>VEH1_DIR</th>\n",
       "      <th>VEH1_MANUV</th>\n",
       "      <th>VEH1_EVNT1</th>\n",
       "      <th>VEH1_LOC1</th>\n",
       "      <th>VEH1_EVNT2</th>\n",
       "      <th>VEH1_LOC2</th>\n",
       "      <th>VEH1_EVNT3</th>\n",
       "      <th>VEH1_LOC3</th>\n",
       "      <th>DRIVER_2</th>\n",
       "      <th>VEH2_TYPE</th>\n",
       "      <th>VEH2_SPECL</th>\n",
       "      <th>VEH2_DIR</th>\n",
       "      <th>VEH2_MANUV</th>\n",
       "      <th>VEH2_EVNT1</th>\n",
       "      <th>VEH2_LOC1</th>\n",
       "      <th>VEH2_EVNT2</th>\n",
       "      <th>VEH2_LOC2</th>\n",
       "      <th>VEH2_EVNT3</th>\n",
       "      <th>VEH2_LOC3</th>\n",
       "      <th>DRIVER_3</th>\n",
       "      <th>VEH3_TYPE</th>\n",
       "      <th>VEH3_SPECL</th>\n",
       "      <th>VEH3_DIR</th>\n",
       "      <th>VEH3_MANUV</th>\n",
       "      <th>VEH3_EVNT1</th>\n",
       "      <th>VEH3_LOC1</th>\n",
       "      <th>VEH3_EVNT2</th>\n",
       "      <th>VEH3_LOC2</th>\n",
       "      <th>VEH3_EVNT3</th>\n",
       "      <th>VEH3_LOC3</th>\n",
       "      <th>DRIVER_4</th>\n",
       "      <th>VEH4_TYPE</th>\n",
       "      <th>VEH4_SPECL</th>\n",
       "      <th>VEH4_DIR</th>\n",
       "      <th>VEH4_MANUV</th>\n",
       "      <th>VEH4_EVNT1</th>\n",
       "      <th>VEH4_LOC1</th>\n",
       "      <th>VEH4_EVNT2</th>\n",
       "      <th>VEH4_LOC2</th>\n",
       "      <th>VEH4_EVNT3</th>\n",
       "      <th>VEH4_LOC3</th>\n",
       "      <th>DUP_CD</th>\n",
       "      <th>REC_TYPE</th>\n",
       "      <th>XCOORD</th>\n",
       "      <th>YCOORD</th>\n",
       "      <th>INTERSEC</th>\n",
       "      <th>SFE</th>\n",
       "      <th>AGENCY_NUM</th>\n",
       "      <th>RUNDATE</th>\n",
       "      <th>WorkZone</th>\n",
       "      <th>WorkZoneTy</th>\n",
       "      <th>WorkersPre</th>\n",
       "      <th>ExceedSpee</th>\n",
       "      <th>CellPhoneU</th>\n",
       "      <th>DATE</th>\n",
       "    </tr>\n",
       "  </thead>\n",
       "  <tbody>\n",
       "    <tr>\n",
       "      <th>0</th>\n",
       "      <td>1894</td>\n",
       "      <td>5331</td>\n",
       "      <td>NaN</td>\n",
       "      <td>14</td>\n",
       "      <td>3</td>\n",
       "      <td>5</td>\n",
       "      <td>12</td>\n",
       "      <td>Wed</td>\n",
       "      <td>1</td>\n",
       "      <td>0</td>\n",
       "      <td>0</td>\n",
       "      <td>Other Object</td>\n",
       "      <td>Clear</td>\n",
       "      <td>Daylight</td>\n",
       "      <td>Snow or Slush</td>\n",
       "      <td>No Defects</td>\n",
       "      <td>Not Applicable</td>\n",
       "      <td>No Controls</td>\n",
       "      <td>43</td>\n",
       "      <td>5</td>\n",
       "      <td>0</td>\n",
       "      <td>0.00</td>\n",
       "      <td>Unincorporated</td>\n",
       "      <td>Normal</td>\n",
       "      <td>Passenger</td>\n",
       "      <td>Personal</td>\n",
       "      <td>North</td>\n",
       "      <td>Skidding/Control Loss</td>\n",
       "      <td>Ran Off Roadway</td>\n",
       "      <td>Off Pavement - Right</td>\n",
       "      <td>Other Object</td>\n",
       "      <td>Off Pavement - Right</td>\n",
       "      <td>NaN</td>\n",
       "      <td>NaN</td>\n",
       "      <td>NaN</td>\n",
       "      <td>NaN</td>\n",
       "      <td>NaN</td>\n",
       "      <td>NaN</td>\n",
       "      <td>NaN</td>\n",
       "      <td>NaN</td>\n",
       "      <td>NaN</td>\n",
       "      <td>NaN</td>\n",
       "      <td>NaN</td>\n",
       "      <td>NaN</td>\n",
       "      <td>NaN</td>\n",
       "      <td>NaN</td>\n",
       "      <td>NaN</td>\n",
       "      <td>NaN</td>\n",
       "      <td>NaN</td>\n",
       "      <td>NaN</td>\n",
       "      <td>NaN</td>\n",
       "      <td>NaN</td>\n",
       "      <td>NaN</td>\n",
       "      <td>NaN</td>\n",
       "      <td>NaN</td>\n",
       "      <td>NaN</td>\n",
       "      <td>NaN</td>\n",
       "      <td>NaN</td>\n",
       "      <td>NaN</td>\n",
       "      <td>NaN</td>\n",
       "      <td>NaN</td>\n",
       "      <td>NaN</td>\n",
       "      <td>NaN</td>\n",
       "      <td>NaN</td>\n",
       "      <td>NaN</td>\n",
       "      <td>NaN</td>\n",
       "      <td>NaN</td>\n",
       "      <td>4.300000e+08</td>\n",
       "      <td>PD</td>\n",
       "      <td>2.173041e+06</td>\n",
       "      <td>2.124710e+06</td>\n",
       "      <td>N</td>\n",
       "      <td>X000079121</td>\n",
       "      <td>20043</td>\n",
       "      <td>2016090504</td>\n",
       "      <td>N</td>\n",
       "      <td>(N/A)</td>\n",
       "      <td>N</td>\n",
       "      <td>N</td>\n",
       "      <td>N</td>\n",
       "      <td>2014-03-05</td>\n",
       "    </tr>\n",
       "    <tr>\n",
       "      <th>1</th>\n",
       "      <td>3601</td>\n",
       "      <td>9379</td>\n",
       "      <td>NaN</td>\n",
       "      <td>14</td>\n",
       "      <td>3</td>\n",
       "      <td>19</td>\n",
       "      <td>6</td>\n",
       "      <td>Wed</td>\n",
       "      <td>1</td>\n",
       "      <td>0</td>\n",
       "      <td>0</td>\n",
       "      <td>Fixed Object</td>\n",
       "      <td>Rain</td>\n",
       "      <td>Darkness, Lighted Road</td>\n",
       "      <td>Wet</td>\n",
       "      <td>No Defects</td>\n",
       "      <td>Not Applicable</td>\n",
       "      <td>No Controls</td>\n",
       "      <td>16</td>\n",
       "      <td>0</td>\n",
       "      <td>0</td>\n",
       "      <td>0.00</td>\n",
       "      <td>Chicago</td>\n",
       "      <td>Normal</td>\n",
       "      <td>Tractor With Semi-Trailer</td>\n",
       "      <td>Commercial-Multi-Unit</td>\n",
       "      <td>East</td>\n",
       "      <td>Turning Left</td>\n",
       "      <td>Ran Off Roadway</td>\n",
       "      <td>Other</td>\n",
       "      <td>Guardrail End</td>\n",
       "      <td>Other</td>\n",
       "      <td>NaN</td>\n",
       "      <td>NaN</td>\n",
       "      <td>NaN</td>\n",
       "      <td>NaN</td>\n",
       "      <td>NaN</td>\n",
       "      <td>NaN</td>\n",
       "      <td>NaN</td>\n",
       "      <td>NaN</td>\n",
       "      <td>NaN</td>\n",
       "      <td>NaN</td>\n",
       "      <td>NaN</td>\n",
       "      <td>NaN</td>\n",
       "      <td>NaN</td>\n",
       "      <td>NaN</td>\n",
       "      <td>NaN</td>\n",
       "      <td>NaN</td>\n",
       "      <td>NaN</td>\n",
       "      <td>NaN</td>\n",
       "      <td>NaN</td>\n",
       "      <td>NaN</td>\n",
       "      <td>NaN</td>\n",
       "      <td>NaN</td>\n",
       "      <td>NaN</td>\n",
       "      <td>NaN</td>\n",
       "      <td>NaN</td>\n",
       "      <td>NaN</td>\n",
       "      <td>NaN</td>\n",
       "      <td>NaN</td>\n",
       "      <td>NaN</td>\n",
       "      <td>NaN</td>\n",
       "      <td>NaN</td>\n",
       "      <td>NaN</td>\n",
       "      <td>NaN</td>\n",
       "      <td>NaN</td>\n",
       "      <td>NaN</td>\n",
       "      <td>1.600000e+08</td>\n",
       "      <td>PD</td>\n",
       "      <td>3.014480e+06</td>\n",
       "      <td>1.853341e+06</td>\n",
       "      <td>N</td>\n",
       "      <td>C130096841</td>\n",
       "      <td>11051</td>\n",
       "      <td>2016090504</td>\n",
       "      <td>N</td>\n",
       "      <td>(N/A)</td>\n",
       "      <td>N</td>\n",
       "      <td>N</td>\n",
       "      <td>N</td>\n",
       "      <td>2014-03-19</td>\n",
       "    </tr>\n",
       "    <tr>\n",
       "      <th>2</th>\n",
       "      <td>4740</td>\n",
       "      <td>11829</td>\n",
       "      <td>NaN</td>\n",
       "      <td>14</td>\n",
       "      <td>1</td>\n",
       "      <td>9</td>\n",
       "      <td>21</td>\n",
       "      <td>Thu</td>\n",
       "      <td>1</td>\n",
       "      <td>0</td>\n",
       "      <td>0</td>\n",
       "      <td>Other Non-Collision</td>\n",
       "      <td>Clear</td>\n",
       "      <td>Darkness</td>\n",
       "      <td>Snow or Slush</td>\n",
       "      <td>No Defects</td>\n",
       "      <td>Not Applicable</td>\n",
       "      <td>NaN</td>\n",
       "      <td>81</td>\n",
       "      <td>8</td>\n",
       "      <td>0</td>\n",
       "      <td>0.00</td>\n",
       "      <td>Unincorporated</td>\n",
       "      <td>Normal</td>\n",
       "      <td>Passenger</td>\n",
       "      <td>Personal</td>\n",
       "      <td>West</td>\n",
       "      <td>Straight Ahead</td>\n",
       "      <td>Ran Off Roadway</td>\n",
       "      <td>Off Pavement - Left</td>\n",
       "      <td>Fire/Explosion</td>\n",
       "      <td>Off Pavement - Left</td>\n",
       "      <td>NaN</td>\n",
       "      <td>NaN</td>\n",
       "      <td>NaN</td>\n",
       "      <td>NaN</td>\n",
       "      <td>NaN</td>\n",
       "      <td>NaN</td>\n",
       "      <td>NaN</td>\n",
       "      <td>NaN</td>\n",
       "      <td>NaN</td>\n",
       "      <td>NaN</td>\n",
       "      <td>NaN</td>\n",
       "      <td>NaN</td>\n",
       "      <td>NaN</td>\n",
       "      <td>NaN</td>\n",
       "      <td>NaN</td>\n",
       "      <td>NaN</td>\n",
       "      <td>NaN</td>\n",
       "      <td>NaN</td>\n",
       "      <td>NaN</td>\n",
       "      <td>NaN</td>\n",
       "      <td>NaN</td>\n",
       "      <td>NaN</td>\n",
       "      <td>NaN</td>\n",
       "      <td>NaN</td>\n",
       "      <td>NaN</td>\n",
       "      <td>NaN</td>\n",
       "      <td>NaN</td>\n",
       "      <td>NaN</td>\n",
       "      <td>NaN</td>\n",
       "      <td>NaN</td>\n",
       "      <td>NaN</td>\n",
       "      <td>NaN</td>\n",
       "      <td>NaN</td>\n",
       "      <td>NaN</td>\n",
       "      <td>NaN</td>\n",
       "      <td>8.100000e+08</td>\n",
       "      <td>PD</td>\n",
       "      <td>2.257503e+06</td>\n",
       "      <td>1.843623e+06</td>\n",
       "      <td>Y</td>\n",
       "      <td>M2419584</td>\n",
       "      <td>20081</td>\n",
       "      <td>2016090504</td>\n",
       "      <td>N</td>\n",
       "      <td>(N/A)</td>\n",
       "      <td>N</td>\n",
       "      <td>N</td>\n",
       "      <td>N</td>\n",
       "      <td>2014-01-09</td>\n",
       "    </tr>\n",
       "    <tr>\n",
       "      <th>3</th>\n",
       "      <td>6347</td>\n",
       "      <td>15999</td>\n",
       "      <td>IL084</td>\n",
       "      <td>14</td>\n",
       "      <td>5</td>\n",
       "      <td>10</td>\n",
       "      <td>14</td>\n",
       "      <td>Sat</td>\n",
       "      <td>2</td>\n",
       "      <td>1</td>\n",
       "      <td>0</td>\n",
       "      <td>Rear End</td>\n",
       "      <td>Clear</td>\n",
       "      <td>Daylight</td>\n",
       "      <td>Dry</td>\n",
       "      <td>No Defects</td>\n",
       "      <td>Not Applicable</td>\n",
       "      <td>No Controls</td>\n",
       "      <td>98</td>\n",
       "      <td>1</td>\n",
       "      <td>5084</td>\n",
       "      <td>30.16</td>\n",
       "      <td>Albany</td>\n",
       "      <td>Normal</td>\n",
       "      <td>Passenger</td>\n",
       "      <td>Personal</td>\n",
       "      <td>South</td>\n",
       "      <td>Straight Ahead</td>\n",
       "      <td>Motor Vehicle In Traffic</td>\n",
       "      <td>On Pavement (Roadway)</td>\n",
       "      <td>NaN</td>\n",
       "      <td>NaN</td>\n",
       "      <td>NaN</td>\n",
       "      <td>NaN</td>\n",
       "      <td>Normal</td>\n",
       "      <td>Passenger</td>\n",
       "      <td>Personal</td>\n",
       "      <td>South</td>\n",
       "      <td>Slow/Stop - Left Turn</td>\n",
       "      <td>Motor Vehicle In Traffic</td>\n",
       "      <td>On Pavement (Roadway)</td>\n",
       "      <td>NaN</td>\n",
       "      <td>NaN</td>\n",
       "      <td>NaN</td>\n",
       "      <td>NaN</td>\n",
       "      <td>NaN</td>\n",
       "      <td>NaN</td>\n",
       "      <td>NaN</td>\n",
       "      <td>NaN</td>\n",
       "      <td>NaN</td>\n",
       "      <td>NaN</td>\n",
       "      <td>NaN</td>\n",
       "      <td>NaN</td>\n",
       "      <td>NaN</td>\n",
       "      <td>NaN</td>\n",
       "      <td>NaN</td>\n",
       "      <td>NaN</td>\n",
       "      <td>NaN</td>\n",
       "      <td>NaN</td>\n",
       "      <td>NaN</td>\n",
       "      <td>NaN</td>\n",
       "      <td>NaN</td>\n",
       "      <td>NaN</td>\n",
       "      <td>NaN</td>\n",
       "      <td>NaN</td>\n",
       "      <td>NaN</td>\n",
       "      <td>NaN</td>\n",
       "      <td>9.850840e+08</td>\n",
       "      <td>B-Injury</td>\n",
       "      <td>2.280847e+06</td>\n",
       "      <td>1.865087e+06</td>\n",
       "      <td>Y</td>\n",
       "      <td>M2443053</td>\n",
       "      <td>30001</td>\n",
       "      <td>2016090504</td>\n",
       "      <td>N</td>\n",
       "      <td>(N/A)</td>\n",
       "      <td>N</td>\n",
       "      <td>N</td>\n",
       "      <td>N</td>\n",
       "      <td>2014-05-10</td>\n",
       "    </tr>\n",
       "    <tr>\n",
       "      <th>4</th>\n",
       "      <td>10776</td>\n",
       "      <td>28882</td>\n",
       "      <td>NaN</td>\n",
       "      <td>14</td>\n",
       "      <td>4</td>\n",
       "      <td>28</td>\n",
       "      <td>17</td>\n",
       "      <td>Mon</td>\n",
       "      <td>2</td>\n",
       "      <td>0</td>\n",
       "      <td>0</td>\n",
       "      <td>Sideswipe Same Direction</td>\n",
       "      <td>Rain</td>\n",
       "      <td>Daylight</td>\n",
       "      <td>NaN</td>\n",
       "      <td>No Defects</td>\n",
       "      <td>Not Applicable</td>\n",
       "      <td>No Controls</td>\n",
       "      <td>16</td>\n",
       "      <td>0</td>\n",
       "      <td>0</td>\n",
       "      <td>0.00</td>\n",
       "      <td>Chicago</td>\n",
       "      <td>Normal</td>\n",
       "      <td>Tractor With Semi-Trailer</td>\n",
       "      <td>Other</td>\n",
       "      <td>South</td>\n",
       "      <td>Straight Ahead</td>\n",
       "      <td>Motor Vehicle In Traffic</td>\n",
       "      <td>On Pavement (Roadway)</td>\n",
       "      <td>NaN</td>\n",
       "      <td>NaN</td>\n",
       "      <td>NaN</td>\n",
       "      <td>NaN</td>\n",
       "      <td>Normal</td>\n",
       "      <td>Passenger</td>\n",
       "      <td>Personal</td>\n",
       "      <td>South</td>\n",
       "      <td>Straight Ahead</td>\n",
       "      <td>Motor Vehicle In Traffic</td>\n",
       "      <td>On Pavement (Roadway)</td>\n",
       "      <td>NaN</td>\n",
       "      <td>NaN</td>\n",
       "      <td>NaN</td>\n",
       "      <td>NaN</td>\n",
       "      <td>NaN</td>\n",
       "      <td>NaN</td>\n",
       "      <td>NaN</td>\n",
       "      <td>NaN</td>\n",
       "      <td>NaN</td>\n",
       "      <td>NaN</td>\n",
       "      <td>NaN</td>\n",
       "      <td>NaN</td>\n",
       "      <td>NaN</td>\n",
       "      <td>NaN</td>\n",
       "      <td>NaN</td>\n",
       "      <td>NaN</td>\n",
       "      <td>NaN</td>\n",
       "      <td>NaN</td>\n",
       "      <td>NaN</td>\n",
       "      <td>NaN</td>\n",
       "      <td>NaN</td>\n",
       "      <td>NaN</td>\n",
       "      <td>NaN</td>\n",
       "      <td>NaN</td>\n",
       "      <td>NaN</td>\n",
       "      <td>NaN</td>\n",
       "      <td>1.600000e+08</td>\n",
       "      <td>PD</td>\n",
       "      <td>3.015045e+06</td>\n",
       "      <td>1.848749e+06</td>\n",
       "      <td>N</td>\n",
       "      <td>C110178811</td>\n",
       "      <td>11051</td>\n",
       "      <td>2016090504</td>\n",
       "      <td>N</td>\n",
       "      <td>(N/A)</td>\n",
       "      <td>N</td>\n",
       "      <td>N</td>\n",
       "      <td>N</td>\n",
       "      <td>2014-04-28</td>\n",
       "    </tr>\n",
       "  </tbody>\n",
       "</table>\n",
       "</div>"
      ],
      "text/plain": [
       "  OBJECTID  geodb_oid  ROUTE  YEAR  MONTH  DAY  HOUR DAY_O_WEEK  NUM_VEH  \\\n",
       "0     1894       5331    NaN    14      3    5    12        Wed        1   \n",
       "1     3601       9379    NaN    14      3   19     6        Wed        1   \n",
       "2     4740      11829    NaN    14      1    9    21        Thu        1   \n",
       "3     6347      15999  IL084    14      5   10    14        Sat        2   \n",
       "4    10776      28882    NaN    14      4   28    17        Mon        2   \n",
       "\n",
       "   INJURIES  FATALITIES                 COLL_TYPE WEATHER  \\\n",
       "0         0           0              Other Object   Clear   \n",
       "1         0           0              Fixed Object    Rain   \n",
       "2         0           0       Other Non-Collision   Clear   \n",
       "3         1           0                  Rear End   Clear   \n",
       "4         0           0  Sideswipe Same Direction    Rain   \n",
       "\n",
       "                 LIGHTING      SURF_COND   RD_DEFECT      RD_FEATURE  \\\n",
       "0                Daylight  Snow or Slush  No Defects  Not Applicable   \n",
       "1  Darkness, Lighted Road            Wet  No Defects  Not Applicable   \n",
       "2                Darkness  Snow or Slush  No Defects  Not Applicable   \n",
       "3                Daylight            Dry  No Defects  Not Applicable   \n",
       "4                Daylight            NaN  No Defects  Not Applicable   \n",
       "\n",
       "    TRAF_CNTRL  COUNTY TOWNSHIP  TS_ROUTE   MILE            CITY DRIVER_1  \\\n",
       "0  No Controls      43        5         0   0.00  Unincorporated   Normal   \n",
       "1  No Controls      16        0         0   0.00         Chicago   Normal   \n",
       "2          NaN      81        8         0   0.00  Unincorporated   Normal   \n",
       "3  No Controls      98        1      5084  30.16          Albany   Normal   \n",
       "4  No Controls      16        0         0   0.00         Chicago   Normal   \n",
       "\n",
       "                   VEH1_TYPE             VEH1_SPECL VEH1_DIR  \\\n",
       "0                  Passenger               Personal    North   \n",
       "1  Tractor With Semi-Trailer  Commercial-Multi-Unit     East   \n",
       "2                  Passenger               Personal     West   \n",
       "3                  Passenger               Personal    South   \n",
       "4  Tractor With Semi-Trailer                  Other    South   \n",
       "\n",
       "              VEH1_MANUV                VEH1_EVNT1              VEH1_LOC1  \\\n",
       "0  Skidding/Control Loss           Ran Off Roadway   Off Pavement - Right   \n",
       "1           Turning Left           Ran Off Roadway                  Other   \n",
       "2         Straight Ahead           Ran Off Roadway    Off Pavement - Left   \n",
       "3         Straight Ahead  Motor Vehicle In Traffic  On Pavement (Roadway)   \n",
       "4         Straight Ahead  Motor Vehicle In Traffic  On Pavement (Roadway)   \n",
       "\n",
       "       VEH1_EVNT2             VEH1_LOC2 VEH1_EVNT3 VEH1_LOC3 DRIVER_2  \\\n",
       "0    Other Object  Off Pavement - Right        NaN       NaN      NaN   \n",
       "1   Guardrail End                 Other        NaN       NaN      NaN   \n",
       "2  Fire/Explosion   Off Pavement - Left        NaN       NaN      NaN   \n",
       "3             NaN                   NaN        NaN       NaN   Normal   \n",
       "4             NaN                   NaN        NaN       NaN   Normal   \n",
       "\n",
       "   VEH2_TYPE VEH2_SPECL VEH2_DIR             VEH2_MANUV  \\\n",
       "0        NaN        NaN      NaN                    NaN   \n",
       "1        NaN        NaN      NaN                    NaN   \n",
       "2        NaN        NaN      NaN                    NaN   \n",
       "3  Passenger   Personal    South  Slow/Stop - Left Turn   \n",
       "4  Passenger   Personal    South         Straight Ahead   \n",
       "\n",
       "                 VEH2_EVNT1              VEH2_LOC1 VEH2_EVNT2 VEH2_LOC2  \\\n",
       "0                       NaN                    NaN        NaN       NaN   \n",
       "1                       NaN                    NaN        NaN       NaN   \n",
       "2                       NaN                    NaN        NaN       NaN   \n",
       "3  Motor Vehicle In Traffic  On Pavement (Roadway)        NaN       NaN   \n",
       "4  Motor Vehicle In Traffic  On Pavement (Roadway)        NaN       NaN   \n",
       "\n",
       "  VEH2_EVNT3 VEH2_LOC3 DRIVER_3 VEH3_TYPE VEH3_SPECL VEH3_DIR VEH3_MANUV  \\\n",
       "0        NaN       NaN      NaN       NaN        NaN      NaN        NaN   \n",
       "1        NaN       NaN      NaN       NaN        NaN      NaN        NaN   \n",
       "2        NaN       NaN      NaN       NaN        NaN      NaN        NaN   \n",
       "3        NaN       NaN      NaN       NaN        NaN      NaN        NaN   \n",
       "4        NaN       NaN      NaN       NaN        NaN      NaN        NaN   \n",
       "\n",
       "  VEH3_EVNT1 VEH3_LOC1 VEH3_EVNT2 VEH3_LOC2 VEH3_EVNT3 VEH3_LOC3 DRIVER_4  \\\n",
       "0        NaN       NaN        NaN       NaN        NaN       NaN      NaN   \n",
       "1        NaN       NaN        NaN       NaN        NaN       NaN      NaN   \n",
       "2        NaN       NaN        NaN       NaN        NaN       NaN      NaN   \n",
       "3        NaN       NaN        NaN       NaN        NaN       NaN      NaN   \n",
       "4        NaN       NaN        NaN       NaN        NaN       NaN      NaN   \n",
       "\n",
       "  VEH4_TYPE VEH4_SPECL VEH4_DIR VEH4_MANUV VEH4_EVNT1 VEH4_LOC1 VEH4_EVNT2  \\\n",
       "0       NaN        NaN      NaN        NaN        NaN       NaN        NaN   \n",
       "1       NaN        NaN      NaN        NaN        NaN       NaN        NaN   \n",
       "2       NaN        NaN      NaN        NaN        NaN       NaN        NaN   \n",
       "3       NaN        NaN      NaN        NaN        NaN       NaN        NaN   \n",
       "4       NaN        NaN      NaN        NaN        NaN       NaN        NaN   \n",
       "\n",
       "  VEH4_LOC2 VEH4_EVNT3 VEH4_LOC3        DUP_CD  REC_TYPE        XCOORD  \\\n",
       "0       NaN        NaN       NaN  4.300000e+08        PD  2.173041e+06   \n",
       "1       NaN        NaN       NaN  1.600000e+08        PD  3.014480e+06   \n",
       "2       NaN        NaN       NaN  8.100000e+08        PD  2.257503e+06   \n",
       "3       NaN        NaN       NaN  9.850840e+08  B-Injury  2.280847e+06   \n",
       "4       NaN        NaN       NaN  1.600000e+08        PD  3.015045e+06   \n",
       "\n",
       "         YCOORD INTERSEC         SFE  AGENCY_NUM     RUNDATE WorkZone  \\\n",
       "0  2.124710e+06        N  X000079121       20043  2016090504        N   \n",
       "1  1.853341e+06        N  C130096841       11051  2016090504        N   \n",
       "2  1.843623e+06        Y    M2419584       20081  2016090504        N   \n",
       "3  1.865087e+06        Y    M2443053       30001  2016090504        N   \n",
       "4  1.848749e+06        N  C110178811       11051  2016090504        N   \n",
       "\n",
       "  WorkZoneTy WorkersPre ExceedSpee CellPhoneU       DATE  \n",
       "0      (N/A)          N          N          N 2014-03-05  \n",
       "1      (N/A)          N          N          N 2014-03-19  \n",
       "2      (N/A)          N          N          N 2014-01-09  \n",
       "3      (N/A)          N          N          N 2014-05-10  \n",
       "4      (N/A)          N          N          N 2014-04-28  "
      ]
     },
     "execution_count": 40,
     "metadata": {},
     "output_type": "execute_result"
    }
   ],
   "source": [
    "car['DATE'] = car.MONTH.map(str) + \"-\" + car.DAY.map(str) + \"-\" +'2014'\n",
    "car['DATE'] = pd.to_datetime(car['DATE'], format='%m-%d-%Y')\n",
    "car.head(5)"
   ]
  },
  {
   "cell_type": "code",
   "execution_count": 41,
   "id": "brilliant-constitutional",
   "metadata": {
    "ExecuteTime": {
     "end_time": "2021-04-15T02:33:53.022820Z",
     "start_time": "2021-04-15T02:33:52.959857Z"
    }
   },
   "outputs": [
    {
     "data": {
      "text/plain": [
       "COLL_TYPE\n",
       "Angle                           29849\n",
       "Animal                          15646\n",
       "Fixed Object                    33697\n",
       "Head On                          2454\n",
       "Other Non-Collision              2916\n",
       "Other Object                     2756\n",
       "Overturned                       3853\n",
       "Parked Motor Vehicle            35276\n",
       "Pedalcyclist                     3165\n",
       "Pedestrian                       4343\n",
       "Rear End                        84641\n",
       "Sideswipe Opposite Direction     3646\n",
       "Sideswipe Same Direction        27215\n",
       "Train                              85\n",
       "Turning                         42477\n",
       "dtype: int64"
      ]
     },
     "execution_count": 41,
     "metadata": {},
     "output_type": "execute_result"
    }
   ],
   "source": [
    "car.groupby('COLL_TYPE').size()"
   ]
  },
  {
   "cell_type": "code",
   "execution_count": 42,
   "id": "floating-pioneer",
   "metadata": {
    "ExecuteTime": {
     "end_time": "2021-04-15T02:33:53.875122Z",
     "start_time": "2021-04-15T02:33:53.820745Z"
    }
   },
   "outputs": [
    {
     "data": {
      "text/plain": [
       "TRAF_CNTRL\n",
       "Delineators                155\n",
       "Lane Use Marking         38648\n",
       "No Controls             142722\n",
       "No Passing                 630\n",
       "Other                     1185\n",
       "Other RR Crossing          216\n",
       "Other Regualtory Sig       876\n",
       "Other Warning Sign        1052\n",
       "Police/Flagman             308\n",
       "RR Crossing Gate           474\n",
       "School Zone                109\n",
       "Stop Sign/Flasher        30077\n",
       "Traffic Signal           69973\n",
       "Yield                     1180\n",
       "dtype: int64"
      ]
     },
     "execution_count": 42,
     "metadata": {},
     "output_type": "execute_result"
    }
   ],
   "source": [
    "car.groupby('TRAF_CNTRL').size()"
   ]
  },
  {
   "cell_type": "code",
   "execution_count": 43,
   "id": "cutting-buddy",
   "metadata": {
    "ExecuteTime": {
     "end_time": "2021-04-15T02:33:54.929323Z",
     "start_time": "2021-04-15T02:33:54.834232Z"
    }
   },
   "outputs": [
    {
     "name": "stderr",
     "output_type": "stream",
     "text": [
      "<ipython-input-43-1774d6c0406a>:2: FutureWarning: Indexing with multiple keys (implicitly converted to a tuple of keys) will be deprecated, use a list instead.\n",
      "  ty = car.groupby('COLL_TYPE')['INJURIES', 'FATALITIES'].sum()\n"
     ]
    }
   ],
   "source": [
    "# Groupby collission type and sum the injuries and fatalities withing the group\n",
    "ty = car.groupby('COLL_TYPE')['INJURIES', 'FATALITIES'].sum()\n",
    "\n",
    "# Add a column 'critical' to sum the total critical collisions (injiries plus fatalities)\n",
    "ty['critical'] = ty['INJURIES'] + ty['FATALITIES']\n",
    "\n",
    "# Sort the collition types by critical accidents and take the top five types\n",
    "ty_sort = ty.sort_values('critical',ascending = False).reset_index().head(5)"
   ]
  },
  {
   "cell_type": "code",
   "execution_count": 44,
   "id": "competitive-vegetation",
   "metadata": {
    "ExecuteTime": {
     "end_time": "2021-04-15T02:33:55.736462Z",
     "start_time": "2021-04-15T02:33:55.714475Z"
    }
   },
   "outputs": [],
   "source": [
    "# Add a 'critical' column to the car creash data set adding injuries and fatalities\n",
    "car['critical'] = car['INJURIES'] +car['FATALITIES']"
   ]
  },
  {
   "cell_type": "code",
   "execution_count": 45,
   "id": "increased-burlington",
   "metadata": {
    "ExecuteTime": {
     "end_time": "2021-04-15T02:33:57.522390Z",
     "start_time": "2021-04-15T02:33:56.750227Z"
    }
   },
   "outputs": [
    {
     "data": {
      "text/plain": [
       "COLL_TYPE     REC_TYPE\n",
       "Angle         A-Injury     2348\n",
       "              B-Injury     5627\n",
       "              C-Injury     4323\n",
       "              Fatal         192\n",
       "Fixed Object  A-Injury     2236\n",
       "              B-Injury     5439\n",
       "              C-Injury     1827\n",
       "              Fatal         399\n",
       "Pedestrian    A-Injury      860\n",
       "              B-Injury     2347\n",
       "              C-Injury     1022\n",
       "              Fatal         142\n",
       "Rear End      A-Injury     2714\n",
       "              B-Injury     9483\n",
       "              C-Injury    13388\n",
       "              Fatal         113\n",
       "Turning       A-Injury     2658\n",
       "              B-Injury     7322\n",
       "              C-Injury     6067\n",
       "              Fatal         175\n",
       "Name: critical, dtype: int64"
      ]
     },
     "execution_count": 45,
     "metadata": {},
     "output_type": "execute_result"
    }
   ],
   "source": [
    "# Create a series from car dataset grouping by collission type (COLL_TYPE) and\n",
    "# injury type 'REC_TYPE' and sum the critical column\n",
    "# Filter all events with no injuries (PD)\n",
    "\n",
    "ser=car[car.COLL_TYPE.isin(list(ty_sort.COLL_TYPE)) & (car.REC_TYPE != 'NDI') & (car.REC_TYPE != 'PD')].groupby(['COLL_TYPE', 'REC_TYPE'])['critical'].sum()\n",
    "ser"
   ]
  },
  {
   "cell_type": "code",
   "execution_count": 46,
   "id": "whole-perspective",
   "metadata": {
    "ExecuteTime": {
     "end_time": "2021-04-15T02:33:57.647940Z",
     "start_time": "2021-04-15T02:33:57.620376Z"
    }
   },
   "outputs": [
    {
     "data": {
      "text/html": [
       "<div>\n",
       "<style scoped>\n",
       "    .dataframe tbody tr th:only-of-type {\n",
       "        vertical-align: middle;\n",
       "    }\n",
       "\n",
       "    .dataframe tbody tr th {\n",
       "        vertical-align: top;\n",
       "    }\n",
       "\n",
       "    .dataframe thead th {\n",
       "        text-align: right;\n",
       "    }\n",
       "</style>\n",
       "<table border=\"1\" class=\"dataframe\">\n",
       "  <thead>\n",
       "    <tr style=\"text-align: right;\">\n",
       "      <th>REC_TYPE</th>\n",
       "      <th>A-Injury</th>\n",
       "      <th>B-Injury</th>\n",
       "      <th>C-Injury</th>\n",
       "      <th>Fatal</th>\n",
       "    </tr>\n",
       "    <tr>\n",
       "      <th>COLL_TYPE</th>\n",
       "      <th></th>\n",
       "      <th></th>\n",
       "      <th></th>\n",
       "      <th></th>\n",
       "    </tr>\n",
       "  </thead>\n",
       "  <tbody>\n",
       "    <tr>\n",
       "      <th>Angle</th>\n",
       "      <td>2348</td>\n",
       "      <td>5627</td>\n",
       "      <td>4323</td>\n",
       "      <td>192</td>\n",
       "    </tr>\n",
       "    <tr>\n",
       "      <th>Fixed Object</th>\n",
       "      <td>2236</td>\n",
       "      <td>5439</td>\n",
       "      <td>1827</td>\n",
       "      <td>399</td>\n",
       "    </tr>\n",
       "    <tr>\n",
       "      <th>Pedestrian</th>\n",
       "      <td>860</td>\n",
       "      <td>2347</td>\n",
       "      <td>1022</td>\n",
       "      <td>142</td>\n",
       "    </tr>\n",
       "    <tr>\n",
       "      <th>Rear End</th>\n",
       "      <td>2714</td>\n",
       "      <td>9483</td>\n",
       "      <td>13388</td>\n",
       "      <td>113</td>\n",
       "    </tr>\n",
       "    <tr>\n",
       "      <th>Turning</th>\n",
       "      <td>2658</td>\n",
       "      <td>7322</td>\n",
       "      <td>6067</td>\n",
       "      <td>175</td>\n",
       "    </tr>\n",
       "  </tbody>\n",
       "</table>\n",
       "</div>"
      ],
      "text/plain": [
       "REC_TYPE      A-Injury  B-Injury  C-Injury  Fatal\n",
       "COLL_TYPE                                        \n",
       "Angle             2348      5627      4323    192\n",
       "Fixed Object      2236      5439      1827    399\n",
       "Pedestrian         860      2347      1022    142\n",
       "Rear End          2714      9483     13388    113\n",
       "Turning           2658      7322      6067    175"
      ]
     },
     "execution_count": 46,
     "metadata": {},
     "output_type": "execute_result"
    }
   ],
   "source": [
    "#Create a dataframe from the series object\n",
    "df=ser.reindex(index=ser.index, level=0).unstack()\n",
    "df"
   ]
  },
  {
   "cell_type": "code",
   "execution_count": 47,
   "id": "allied-nightmare",
   "metadata": {
    "ExecuteTime": {
     "end_time": "2021-04-15T02:34:00.226567Z",
     "start_time": "2021-04-15T02:33:59.632215Z"
    }
   },
   "outputs": [
    {
     "data": {
      "text/plain": [
       "Text(0, 0.5, 'Collision Type')"
      ]
     },
     "execution_count": 47,
     "metadata": {},
     "output_type": "execute_result"
    },
    {
     "data": {
      "image/png": "[encoded data removed]",
      "text/plain": [
       "<Figure size 864x504 with 1 Axes>"
      ]
     },
     "metadata": {
      "needs_background": "light"
     },
     "output_type": "display_data"
    }
   ],
   "source": [
    "plot = df.plot(kind='barh', stacked=True, colormap='Paired', figsize=(12,7), width = 0.3)\n",
    "plot.legend(loc='lower right',  fontsize=14)\n",
    "plot.tick_params(axis='both', which='major', labelsize=14)\n",
    "plot.set_title('Injuries by Collision Type',fontsize= 14)\n",
    "\n",
    "plot.set_xlabel(\"Total Critical Events (Injuries + Fatalities)\", fontsize= 14)\n",
    "plot.set_ylabel(\"Collision Type\", fontsize= 14)"
   ]
  },
  {
   "cell_type": "code",
   "execution_count": 48,
   "id": "loose-retreat",
   "metadata": {
    "ExecuteTime": {
     "end_time": "2021-04-15T02:34:01.339153Z",
     "start_time": "2021-04-15T02:34:01.302173Z"
    }
   },
   "outputs": [
    {
     "data": {
      "text/plain": [
       "178491"
      ]
     },
     "execution_count": 48,
     "metadata": {},
     "output_type": "execute_result"
    }
   ],
   "source": [
    "# Number of records that does not have a route populated\n",
    "# Assumption is that the collisions in which route is not populated did not happen on an Interstate or a State highway\n",
    "pd.isnull(car['ROUTE']).sum()"
   ]
  },
  {
   "cell_type": "code",
   "execution_count": 49,
   "id": "english-marble",
   "metadata": {
    "ExecuteTime": {
     "end_time": "2021-04-15T02:34:02.583953Z",
     "start_time": "2021-04-15T02:34:02.434206Z"
    }
   },
   "outputs": [],
   "source": [
    "# Fitering NaN value from route \n",
    "route = car[pd.notnull(car['ROUTE'])]"
   ]
  },
  {
   "cell_type": "code",
   "execution_count": 50,
   "id": "rational-poetry",
   "metadata": {
    "ExecuteTime": {
     "end_time": "2021-04-15T02:34:03.517979Z",
     "start_time": "2021-04-15T02:34:03.497991Z"
    }
   },
   "outputs": [
    {
     "data": {
      "text/plain": [
       "array(['IL084', 'I 088', 'IL035', 'US012', 'I 090', 'US020', 'US041',\n",
       "       'IL003', 'IL150', 'IL013', 'IL004', 'IL156', 'IL015', 'IL159',\n",
       "       'IL154', 'IL155', 'IL096', 'US054', 'IL100', 'IL107', 'I 072',\n",
       "       'IL106', 'IL016', 'IL108', 'US067', 'IL111', 'IL109', 'IL267',\n",
       "       'IL078', 'I 072B', 'IL104', 'I 055', 'IL138', 'I 255', 'I 064',\n",
       "       'I 070', 'IL203', 'IL157', 'IL158', 'IL015*', 'US050', 'IL140',\n",
       "       'I 270', 'IL255', 'IL143', 'IL162', 'US040', 'IL161', 'IL163',\n",
       "       'IL159*', 'IL111*', 'IL177', 'IL160', 'IL127', 'IL185', 'I 057',\n",
       "       'US051', 'IL037', 'US051*', 'IL161*', 'IL048', 'IL029', 'I 055B',\n",
       "       'IL128', 'IL121', 'IL033', 'US045', 'IL032', 'IL133', 'IL049',\n",
       "       'IL130', 'IL250', 'US045*', 'IL146', 'I 024', 'IL147', 'IL166',\n",
       "       'IL148', 'IL169', 'US060', 'US062', 'IL151', 'IL149', 'IL152',\n",
       "       'IL153', 'IL014', 'IL142', 'IL013*', 'IL184', 'IL034', 'IL014*',\n",
       "       'IL001', 'IL141', 'IL242', 'IL142*', 'IL145', 'US024', 'I 172',\n",
       "       'US024*', 'IL057*', 'IL057', 'IL110', 'IL061', 'IL094', 'US136',\n",
       "       'IL099', 'IL101', 'IL103', 'IL135', 'US034', 'IL009', 'IL164',\n",
       "       'IL116', 'US067B', 'IL097', 'IL041', 'IL095', 'I 074', 'US150',\n",
       "       'IL167', 'IL091', 'IL017', 'IL090', 'IL008', 'IL180', 'IL125',\n",
       "       'IL010', 'IL123', 'IL092', 'I 280', 'IL192', 'US052', 'IL073',\n",
       "       'US030', 'IL026', 'IL072', 'US020B', 'IL040', 'IL136', 'IL005',\n",
       "       'I 080', 'US006', 'IL082', 'IL081', 'IL092*', 'US067*', 'IL002',\n",
       "       'IL002*', 'IL172', 'IL040*', 'IL093', 'IL173', 'IL076', 'I 180',\n",
       "       'IL071', 'IL089', 'US052*', 'IL251', 'I 039', 'IL023', 'IL023*',\n",
       "       'IL178', 'IL351', 'IL038', 'IL064', 'IL075', 'IL070', 'IL075*',\n",
       "       'IL251*', 'US020*', 'IL047', 'IL031', 'IL056', 'IL025', 'IL176',\n",
       "       'US014', 'IL120', 'IL062', 'IL022', 'IL060', 'IL059', 'IL083',\n",
       "       'IL134', 'IL132', 'I 094', 'IL021', 'IL137', 'IL131', 'IL043',\n",
       "       'IL053', 'I 294', 'IL019', 'I 355', 'IL025*', 'IL058', 'IL068',\n",
       "       'I 290', 'I 190', 'IL058*', 'IL171', 'IL113', 'IL170', 'IL031*',\n",
       "       'IL126', 'IL007', 'US006*', 'US030*', 'IL053*', 'IL126*', 'IL102',\n",
       "       'IL129', 'IL050', 'IL050*', 'IL122', 'IL054', 'IL124', 'I 055B*',\n",
       "       'IL097*', 'I 155', 'US051B', 'US036', 'IL105', 'IL098', 'IL009*',\n",
       "       'IL029*', 'I 474', 'IL008*', 'IL116*', 'IL006', 'US024B', 'IL117',\n",
       "       'IL018', 'IL018*', 'IL165', 'US150*', 'IL115', 'IL119', 'IL394',\n",
       "       'IL114', 'US041*', 'US050B', 'IL001*'], dtype=object)"
      ]
     },
     "execution_count": 50,
     "metadata": {},
     "output_type": "execute_result"
    }
   ],
   "source": [
    "# All Interstate and State Highways recorded\n",
    "route.ROUTE.unique()"
   ]
  },
  {
   "cell_type": "code",
   "execution_count": 51,
   "id": "tribal-magnitude",
   "metadata": {
    "ExecuteTime": {
     "end_time": "2021-04-15T02:34:04.402308Z",
     "start_time": "2021-04-15T02:34:04.302347Z"
    }
   },
   "outputs": [
    {
     "name": "stderr",
     "output_type": "stream",
     "text": [
      "<ipython-input-51-c9024fe054ac>:2: FutureWarning: The default value of regex will change from True to False in a future version. In addition, single character regular expressions will*not* be treated as literal strings when regex=True.\n",
      "  route.ROUTE = route.ROUTE.str.replace(\"*\",'')\n",
      "C:\\ProgramData\\Anaconda3\\lib\\site-packages\\pandas\\core\\generic.py:5494: SettingWithCopyWarning: \n",
      "A value is trying to be set on a copy of a slice from a DataFrame.\n",
      "Try using .loc[row_indexer,col_indexer] = value instead\n",
      "\n",
      "See the caveats in the documentation: https://pandas.pydata.org/pandas-docs/stable/user_guide/indexing.html#returning-a-view-versus-a-copy\n",
      "  self[name] = value\n"
     ]
    },
    {
     "data": {
      "text/plain": [
       "array(['IL084', 'I 088', 'IL035', 'US012', 'I 090', 'US020', 'US041',\n",
       "       'IL003', 'IL150', 'IL013', 'IL004', 'IL156', 'IL015', 'IL159',\n",
       "       'IL154', 'IL155', 'IL096', 'US054', 'IL100', 'IL107', 'I 072',\n",
       "       'IL106', 'IL016', 'IL108', 'US067', 'IL111', 'IL109', 'IL267',\n",
       "       'IL078', 'I 072B', 'IL104', 'I 055', 'IL138', 'I 255', 'I 064',\n",
       "       'I 070', 'IL203', 'IL157', 'IL158', 'US050', 'IL140', 'I 270',\n",
       "       'IL255', 'IL143', 'IL162', 'US040', 'IL161', 'IL163', 'IL177',\n",
       "       'IL160', 'IL127', 'IL185', 'I 057', 'US051', 'IL037', 'IL048',\n",
       "       'IL029', 'I 055B', 'IL128', 'IL121', 'IL033', 'US045', 'IL032',\n",
       "       'IL133', 'IL049', 'IL130', 'IL250', 'IL146', 'I 024', 'IL147',\n",
       "       'IL166', 'IL148', 'IL169', 'US060', 'US062', 'IL151', 'IL149',\n",
       "       'IL152', 'IL153', 'IL014', 'IL142', 'IL184', 'IL034', 'IL001',\n",
       "       'IL141', 'IL242', 'IL145', 'US024', 'I 172', 'IL057', 'IL110',\n",
       "       'IL061', 'IL094', 'US136', 'IL099', 'IL101', 'IL103', 'IL135',\n",
       "       'US034', 'IL009', 'IL164', 'IL116', 'US067B', 'IL097', 'IL041',\n",
       "       'IL095', 'I 074', 'US150', 'IL167', 'IL091', 'IL017', 'IL090',\n",
       "       'IL008', 'IL180', 'IL125', 'IL010', 'IL123', 'IL092', 'I 280',\n",
       "       'IL192', 'US052', 'IL073', 'US030', 'IL026', 'IL072', 'US020B',\n",
       "       'IL040', 'IL136', 'IL005', 'I 080', 'US006', 'IL082', 'IL081',\n",
       "       'IL002', 'IL172', 'IL093', 'IL173', 'IL076', 'I 180', 'IL071',\n",
       "       'IL089', 'IL251', 'I 039', 'IL023', 'IL178', 'IL351', 'IL038',\n",
       "       'IL064', 'IL075', 'IL070', 'IL047', 'IL031', 'IL056', 'IL025',\n",
       "       'IL176', 'US014', 'IL120', 'IL062', 'IL022', 'IL060', 'IL059',\n",
       "       'IL083', 'IL134', 'IL132', 'I 094', 'IL021', 'IL137', 'IL131',\n",
       "       'IL043', 'IL053', 'I 294', 'IL019', 'I 355', 'IL058', 'IL068',\n",
       "       'I 290', 'I 190', 'IL171', 'IL113', 'IL170', 'IL126', 'IL007',\n",
       "       'IL102', 'IL129', 'IL050', 'IL122', 'IL054', 'IL124', 'I 155',\n",
       "       'US051B', 'US036', 'IL105', 'IL098', 'I 474', 'IL006', 'US024B',\n",
       "       'IL117', 'IL018', 'IL165', 'IL115', 'IL119', 'IL394', 'IL114',\n",
       "       'US050B'], dtype=object)"
      ]
     },
     "execution_count": 51,
     "metadata": {},
     "output_type": "execute_result"
    }
   ],
   "source": [
    "# Remove the \"*\" in the route values as route names does not end with a \"*\"\n",
    "route.ROUTE = route.ROUTE.str.replace(\"*\",'')\n",
    "route.ROUTE.unique()"
   ]
  },
  {
   "cell_type": "code",
   "execution_count": 52,
   "id": "republican-longitude",
   "metadata": {
    "ExecuteTime": {
     "end_time": "2021-04-15T02:34:05.257968Z",
     "start_time": "2021-04-15T02:34:05.150099Z"
    }
   },
   "outputs": [],
   "source": [
    "# Create a dataframe of the top 10 routes by collisions\n",
    "rt = route.groupby(\"ROUTE\").size().sort_values(ascending = False).head(10)\n",
    "# Group the top 10 routes by Route and Collision type\n",
    "cl = route[route.ROUTE.isin(list(rt.index))].groupby([\"ROUTE\",\"COLL_TYPE\"]).size()\n",
    "cl = cl.reindex(index = cl.index, level = 0).unstack()"
   ]
  },
  {
   "cell_type": "code",
   "execution_count": 53,
   "id": "piano-irrigation",
   "metadata": {
    "ExecuteTime": {
     "end_time": "2021-04-15T02:34:07.089397Z",
     "start_time": "2021-04-15T02:34:06.116214Z"
    }
   },
   "outputs": [
    {
     "data": {
      "image/png": "[encoded data removed]",
      "text/plain": [
       "<Figure size 1080x504 with 1 Axes>"
      ]
     },
     "metadata": {
      "needs_background": "light"
     },
     "output_type": "display_data"
    }
   ],
   "source": [
    "plot = cl.plot(kind='barh', stacked=True, colormap='Paired', figsize=(15,7))\n",
    "plot.set_xlabel(\"Collision Count\")\n",
    "plot.set_ylabel(\"Route\")\n",
    "plot.legend(title = 'Collision Type')\n",
    "plot.set_title(\"Top 10 Routes by number of Collisions\")\n",
    "pass"
   ]
  },
  {
   "cell_type": "code",
   "execution_count": 56,
   "id": "modified-criticism",
   "metadata": {
    "ExecuteTime": {
     "end_time": "2021-04-15T02:35:45.219761Z",
     "start_time": "2021-04-15T02:35:45.173784Z"
    }
   },
   "outputs": [
    {
     "data": {
      "text/plain": [
       "array(['Skidding/Control Loss', 'Turning Left', 'Straight Ahead',\n",
       "       'Backing', 'Turning Right', 'Merging', 'Unknown',\n",
       "       'Negotiating A Curve', 'U-Turn', 'Driving Wrong Way',\n",
       "       'Slow/Stop In Traffic', 'Changing Lanes',\n",
       "       'Entering Traffic Lane Fr', 'Parked', 'Other',\n",
       "       'Slow/Stop - Left Turn', 'Enter From Drive/Alley',\n",
       "       'Avoiding Vehicle/Objects', 'Slow/Stop - Load/Unload',\n",
       "       'Slow/Stop - Right Turn', 'Passing/Overtaking', nan,\n",
       "       'Starting In Traffic', 'Leaving Traffic Lane to', 'Driverless',\n",
       "       'Turning On Red', 'Diverging', 'Parked In Traffic Lane'],\n",
       "      dtype=object)"
      ]
     },
     "execution_count": 56,
     "metadata": {},
     "output_type": "execute_result"
    }
   ],
   "source": [
    "car.VEH1_MANUV.unique()"
   ]
  },
  {
   "cell_type": "code",
   "execution_count": 78,
   "id": "alert-transition",
   "metadata": {
    "ExecuteTime": {
     "end_time": "2021-04-15T04:05:37.493729Z",
     "start_time": "2021-04-15T04:05:37.231880Z"
    }
   },
   "outputs": [
    {
     "data": {
      "text/html": [
       "<div>\n",
       "<style scoped>\n",
       "    .dataframe tbody tr th:only-of-type {\n",
       "        vertical-align: middle;\n",
       "    }\n",
       "\n",
       "    .dataframe tbody tr th {\n",
       "        vertical-align: top;\n",
       "    }\n",
       "\n",
       "    .dataframe thead th {\n",
       "        text-align: right;\n",
       "    }\n",
       "</style>\n",
       "<table border=\"1\" class=\"dataframe\">\n",
       "  <thead>\n",
       "    <tr style=\"text-align: right;\">\n",
       "      <th>SURF_COND</th>\n",
       "      <th>Dry</th>\n",
       "      <th>Ice</th>\n",
       "      <th>Other</th>\n",
       "      <th>Sand, Mud, Dirt</th>\n",
       "      <th>Snow or Slush</th>\n",
       "      <th>Wet</th>\n",
       "    </tr>\n",
       "    <tr>\n",
       "      <th>VEH1_MANUV</th>\n",
       "      <th></th>\n",
       "      <th></th>\n",
       "      <th></th>\n",
       "      <th></th>\n",
       "      <th></th>\n",
       "      <th></th>\n",
       "    </tr>\n",
       "  </thead>\n",
       "  <tbody>\n",
       "    <tr>\n",
       "      <th>Skidding/Control Loss</th>\n",
       "      <td>5955</td>\n",
       "      <td>4747</td>\n",
       "      <td>151</td>\n",
       "      <td>59</td>\n",
       "      <td>6643</td>\n",
       "      <td>3495</td>\n",
       "    </tr>\n",
       "  </tbody>\n",
       "</table>\n",
       "</div>"
      ],
      "text/plain": [
       "SURF_COND               Dry   Ice  Other  Sand, Mud, Dirt  Snow or Slush   Wet\n",
       "VEH1_MANUV                                                                    \n",
       "Skidding/Control Loss  5955  4747    151               59           6643  3495"
      ]
     },
     "execution_count": 78,
     "metadata": {},
     "output_type": "execute_result"
    }
   ],
   "source": [
    "mns = car.groupby('VEH1_MANUV').size().sort_values(ascending = False).head(3)\n",
    "# For all primary vehicles that skid or lost control group by the vehivle manuveour and surface condition\n",
    "mn = car[car.VEH1_MANUV == 'Skidding/Control Loss'].groupby([\"VEH1_MANUV\",\"SURF_COND\"]).size()\n",
    "mn = mn.reindex(index = mn.index, level = 0).unstack()\n",
    "mn"
   ]
  },
  {
   "cell_type": "code",
   "execution_count": 79,
   "id": "textile-manufacturer",
   "metadata": {
    "ExecuteTime": {
     "end_time": "2021-04-15T04:05:38.268211Z",
     "start_time": "2021-04-15T04:05:37.917411Z"
    }
   },
   "outputs": [
    {
     "data": {
      "image/png": "[encoded data removed]",
      "text/plain": [
       "<Figure size 720x504 with 1 Axes>"
      ]
     },
     "metadata": {
      "needs_background": "light"
     },
     "output_type": "display_data"
    }
   ],
   "source": [
    "plot = mn.plot(kind='bar', stacked=False, colormap='Paired', figsize=(10,7))\n",
    "plot.set_xlabel(\"Surface Condition\")\n",
    "plot.set_ylabel(\"Count\")\n",
    "plot.legend(title = 'Surface Condition', bbox_to_anchor=(1.0, 0.5))\n",
    "plot.set_title(\"Skidding or Loss of Control and Surface Condition\")\n",
    "plot.tick_params(axis='x', labelbottom = False)\n",
    "pass"
   ]
  },
  {
   "cell_type": "code",
   "execution_count": 80,
   "id": "hybrid-optimization",
   "metadata": {
    "ExecuteTime": {
     "end_time": "2021-04-15T04:05:38.828889Z",
     "start_time": "2021-04-15T04:05:38.740938Z"
    }
   },
   "outputs": [
    {
     "data": {
      "text/plain": [
       "CITY\n",
       "Chicago           81480\n",
       "Unincorporated    46329\n",
       "Aurora             3758\n",
       "Rockford           3599\n",
       "Springfield        3458\n",
       "                  ...  \n",
       "Coulterville          1\n",
       "Redmon                1\n",
       "Ransom                1\n",
       "Andover               1\n",
       "Deer Grove            1\n",
       "Length: 1131, dtype: int64"
      ]
     },
     "execution_count": 80,
     "metadata": {},
     "output_type": "execute_result"
    }
   ],
   "source": [
    "car.groupby(\"CITY\").size().sort_values(ascending = False)"
   ]
  },
  {
   "cell_type": "code",
   "execution_count": 81,
   "id": "fundamental-banks",
   "metadata": {
    "ExecuteTime": {
     "end_time": "2021-04-15T04:05:39.561407Z",
     "start_time": "2021-04-15T04:05:39.250646Z"
    }
   },
   "outputs": [],
   "source": [
    "chi = car[car[\"CITY\"] == 'Chicago']\n",
    "uni = car[car[\"CITY\"] == 'Unincorporated']\n",
    "chicol = chi.groupby(\"COLL_TYPE\").size()\n",
    "chicolper = round(chicol*100/chicol.sum(),2)\n",
    "ser2 = chicolper.to_frame()\n",
    "unicol = uni.groupby(\"COLL_TYPE\").size()\n",
    "unicolper = round(unicol*100/unicol.sum(),2)\n",
    "ser1 = unicolper.to_frame()"
   ]
  },
  {
   "cell_type": "code",
   "execution_count": 82,
   "id": "verbal-tutorial",
   "metadata": {
    "ExecuteTime": {
     "end_time": "2021-04-15T04:05:39.998152Z",
     "start_time": "2021-04-15T04:05:39.985177Z"
    }
   },
   "outputs": [],
   "source": [
    "xaxis = list(unicolper.index)\n",
    "ychi = list(chicolper.values)\n",
    "yuni = list(unicolper.values)"
   ]
  },
  {
   "cell_type": "code",
   "execution_count": 83,
   "id": "graduate-questionnaire",
   "metadata": {
    "ExecuteTime": {
     "end_time": "2021-04-15T04:05:40.829755Z",
     "start_time": "2021-04-15T04:05:40.411938Z"
    }
   },
   "outputs": [
    {
     "data": {
      "image/png": "[encoded data removed]",
      "text/plain": [
       "<Figure size 720x360 with 1 Axes>"
      ]
     },
     "metadata": {
      "needs_background": "light"
     },
     "output_type": "display_data"
    }
   ],
   "source": [
    "plt.figure(figsize=(10,5))\n",
    "\n",
    "ind = np.arange(15)\n",
    "\n",
    "width = 0.2       \n",
    "\n",
    "plt.bar(ind, ychi , width, label='Chicago')\n",
    "plt.bar(ind + width, yuni, width, label='Unincorporated')\n",
    "\n",
    "plt.xlabel('Collision Type')\n",
    "plt.ylabel('Percentage')\n",
    "plt.title('Chicago vs Unincorporated : Collision Type and Percentages')\n",
    "\n",
    "plt.xticks(ind + width / 2, tuple(xaxis), rotation='vertical')\n",
    "\n",
    "# Finding the best position for legends and putting it\n",
    "plt.legend(loc='best')\n",
    "plt.show()"
   ]
  },
  {
   "cell_type": "code",
   "execution_count": 84,
   "id": "beneficial-drawing",
   "metadata": {
    "ExecuteTime": {
     "end_time": "2021-04-15T04:05:44.535922Z",
     "start_time": "2021-04-15T04:05:41.217193Z"
    }
   },
   "outputs": [],
   "source": [
    "# Conditional concatenation of Driver condition columns - 'DRIVER_1', 'DRIVER_2', 'DRIVER_3', 'DRIVER_4'\n",
    "car['DRIVER_1'].fillna('Normal', inplace = True) # It should ne N/A instead of Normal but for the purpose of graphs/duplicate values defaulting it to Normal\n",
    "car['DRIVER_2'].fillna('Normal', inplace = True)\n",
    "car['DRIVER_3'].fillna('Normal', inplace = True)\n",
    "car['DRIVER_4'].fillna('Normal', inplace = True)\n",
    "\n",
    "sub1 = car[['DRIVER_1', 'DRIVER_2', 'DRIVER_3', 'DRIVER_4']]\n",
    "car[\"DRIVER\"] = sub1.astype(str).apply(lambda x: ' '.join(set(' '.join(x).split())), axis=1)"
   ]
  },
  {
   "cell_type": "code",
   "execution_count": 85,
   "id": "aware-significance",
   "metadata": {
    "ExecuteTime": {
     "end_time": "2021-04-15T04:05:48.292893Z",
     "start_time": "2021-04-15T04:05:45.006499Z"
    }
   },
   "outputs": [],
   "source": [
    "# Conditional concatenation of Vehicle Type columns - 'VEH1_TYPE', 'VEH2_TYPE', 'VEH3_TYPE', 'VEH4_TYPE'\n",
    "car['VEH1_TYPE'].fillna('', inplace = True)\n",
    "car['VEH2_TYPE'].fillna('', inplace = True)\n",
    "car['VEH3_TYPE'].fillna('', inplace = True)\n",
    "car['VEH4_TYPE'].fillna('', inplace = True)\n",
    "\n",
    "sub2 = car[['VEH1_TYPE', 'VEH2_TYPE', 'VEH3_TYPE', 'VEH4_TYPE']]\n",
    "car[\"VEH_TYPE\"] = sub2.astype(str).apply(lambda x: ' '.join(set(' '.join(x).split())), axis=1)"
   ]
  },
  {
   "cell_type": "code",
   "execution_count": 86,
   "id": "fundamental-longitude",
   "metadata": {
    "ExecuteTime": {
     "end_time": "2021-04-15T04:05:53.058245Z",
     "start_time": "2021-04-15T04:05:48.722733Z"
    }
   },
   "outputs": [],
   "source": [
    "# Conditional concatenation of Vehicle Speciality columns - 'VEH1_SPECL', 'VEH2_SPECL', 'VEH3_SPECL', 'VEH4_SPECL'\n",
    "car['VEH1_SPECL'].fillna('', inplace = True)\n",
    "car['VEH2_SPECL'].fillna('', inplace = True)\n",
    "car['VEH3_SPECL'].fillna('', inplace = True)\n",
    "car['VEH4_SPECL'].fillna('', inplace = True)\n",
    "\n",
    "sub3 = car[['VEH1_SPECL', 'VEH2_SPECL', 'VEH3_SPECL', 'VEH4_SPECL']]\n",
    "car[\"VEH_SPECL\"] = sub3.astype(str).apply(lambda x: ' '.join(set(' '.join(x).split())), axis=1)"
   ]
  },
  {
   "cell_type": "code",
   "execution_count": 87,
   "id": "immune-aging",
   "metadata": {
    "ExecuteTime": {
     "end_time": "2021-04-15T04:05:57.589648Z",
     "start_time": "2021-04-15T04:05:53.473009Z"
    }
   },
   "outputs": [],
   "source": [
    "# Conditional concatenation of Vehicle Manuvre columns - 'VEH1_MANUV', 'VEH2_MANUV', 'VEH3_MANUV', 'VEH4_MANUV'\n",
    "car['VEH1_MANUV'].fillna('', inplace = True)\n",
    "car['VEH2_MANUV'].fillna('', inplace = True)\n",
    "car['VEH3_MANUV'].fillna('', inplace = True)\n",
    "car['VEH4_MANUV'].fillna('', inplace = True)\n",
    "\n",
    "sub4 = car[['VEH1_MANUV', 'VEH2_MANUV', 'VEH3_MANUV', 'VEH4_MANUV']]\n",
    "car[\"VEH_MANUV\"] = sub4.astype(str).apply(lambda x: ' '.join(set(' '.join(x).split())), axis=1)"
   ]
  },
  {
   "cell_type": "code",
   "execution_count": 88,
   "id": "subjective-marketplace",
   "metadata": {
    "ExecuteTime": {
     "end_time": "2021-04-15T04:06:02.422514Z",
     "start_time": "2021-04-15T04:05:58.312236Z"
    }
   },
   "outputs": [],
   "source": [
    "# Conditional concatenation of Vehicle Environment columns - \n",
    "cols = ['VEH1_EVNT1', 'VEH1_EVNT2', 'VEH1_EVNT3'\n",
    "            ,'VEH2_EVNT1', 'VEH2_EVNT2', 'VEH2_EVNT3'\n",
    "            ,'VEH3_EVNT1', 'VEH3_EVNT2', 'VEH3_EVNT3'\n",
    "            ,'VEH4_EVNT1', 'VEH4_EVNT2', 'VEH4_EVNT3']\n",
    "car['VEH1_EVNT1'].fillna('', inplace = True)\n",
    "car['VEH1_EVNT2'].fillna('', inplace = True)\n",
    "car['VEH1_EVNT3'].fillna('', inplace = True)\n",
    "car['VEH2_EVNT1'].fillna('', inplace = True)\n",
    "car['VEH2_EVNT2'].fillna('', inplace = True)\n",
    "car['VEH2_EVNT3'].fillna('', inplace = True)\n",
    "car['VEH3_EVNT1'].fillna('', inplace = True)\n",
    "car['VEH3_EVNT2'].fillna('', inplace = True)\n",
    "car['VEH3_EVNT3'].fillna('', inplace = True)\n",
    "car['VEH4_EVNT1'].fillna('', inplace = True)\n",
    "car['VEH4_EVNT2'].fillna('', inplace = True)\n",
    "car['VEH4_EVNT3'].fillna('', inplace = True)\n",
    "\n",
    "sub5 = car[['VEH1_EVNT1', 'VEH1_EVNT2', 'VEH1_EVNT3'\n",
    "            ,'VEH2_EVNT1', 'VEH2_EVNT2', 'VEH2_EVNT3'\n",
    "            ,'VEH3_EVNT1', 'VEH3_EVNT2', 'VEH3_EVNT3'\n",
    "            ,'VEH4_EVNT1', 'VEH4_EVNT2', 'VEH4_EVNT3']]\n",
    "car[\"VEH_EVNT\"] = sub5.astype(str).apply(lambda x: ' '.join(set(' '.join(x).split())), axis=1)"
   ]
  },
  {
   "cell_type": "code",
   "execution_count": 89,
   "id": "above-dialogue",
   "metadata": {
    "ExecuteTime": {
     "end_time": "2021-04-15T04:06:03.321213Z",
     "start_time": "2021-04-15T04:06:02.801272Z"
    }
   },
   "outputs": [],
   "source": [
    "trivial = car[(car['INJURIES'] == 0) & (car['FATALITIES'] == 0)]\n",
    "serious = car[(car['INJURIES'] > 0) | (car['FATALITIES'] > 0)] #| (car['REC_TYPE'] != ('PD','Trivial'))"
   ]
  },
  {
   "cell_type": "code",
   "execution_count": 90,
   "id": "healthy-print",
   "metadata": {
    "ExecuteTime": {
     "end_time": "2021-04-15T04:06:04.001989Z",
     "start_time": "2021-04-15T04:06:03.721089Z"
    }
   },
   "outputs": [
    {
     "data": {
      "text/plain": [
       "<AxesSubplot:xlabel='CITY'>"
      ]
     },
     "execution_count": 90,
     "metadata": {},
     "output_type": "execute_result"
    },
    {
     "data": {
      "image/png": "[encoded data removed]",
      "text/plain": [
       "<Figure size 432x288 with 1 Axes>"
      ]
     },
     "metadata": {
      "needs_background": "light"
     },
     "output_type": "display_data"
    }
   ],
   "source": [
    "city_s = serious.groupby('CITY').size().sort_values(ascending = False)\n",
    "city_s.head(10).plot.bar()"
   ]
  },
  {
   "cell_type": "code",
   "execution_count": 91,
   "id": "satisfactory-edgar",
   "metadata": {
    "ExecuteTime": {
     "end_time": "2021-04-15T04:06:04.860312Z",
     "start_time": "2021-04-15T04:06:04.565866Z"
    }
   },
   "outputs": [
    {
     "data": {
      "text/plain": [
       "<AxesSubplot:xlabel='CITY'>"
      ]
     },
     "execution_count": 91,
     "metadata": {},
     "output_type": "execute_result"
    },
    {
     "data": {
      "image/png": "[encoded data removed]",
      "text/plain": [
       "<Figure size 432x288 with 1 Axes>"
      ]
     },
     "metadata": {
      "needs_background": "light"
     },
     "output_type": "display_data"
    }
   ],
   "source": [
    "city_t = trivial.groupby('CITY').size().sort_values(ascending = False)\n",
    "city_t.head(10).plot.bar()"
   ]
  },
  {
   "cell_type": "code",
   "execution_count": 92,
   "id": "liberal-dispatch",
   "metadata": {
    "ExecuteTime": {
     "end_time": "2021-04-15T04:06:05.623930Z",
     "start_time": "2021-04-15T04:06:05.331101Z"
    }
   },
   "outputs": [
    {
     "data": {
      "text/plain": [
       "<AxesSubplot:xlabel='CITY'>"
      ]
     },
     "execution_count": 92,
     "metadata": {},
     "output_type": "execute_result"
    },
    {
     "data": {
      "image/png": "[encoded data removed]",
      "text/plain": [
       "<Figure size 432x288 with 1 Axes>"
      ]
     },
     "metadata": {
      "needs_background": "light"
     },
     "output_type": "display_data"
    }
   ],
   "source": [
    "city_a = car.groupby('CITY').size().sort_values(ascending = False)\n",
    "city_a.head(10).plot.bar()"
   ]
  },
  {
   "cell_type": "code",
   "execution_count": 93,
   "id": "stopped-detector",
   "metadata": {
    "ExecuteTime": {
     "end_time": "2021-04-15T04:06:06.252875Z",
     "start_time": "2021-04-15T04:06:06.035754Z"
    }
   },
   "outputs": [
    {
     "data": {
      "text/plain": [
       "<AxesSubplot:xlabel='INTERSEC'>"
      ]
     },
     "execution_count": 93,
     "metadata": {},
     "output_type": "execute_result"
    },
    {
     "data": {
      "image/png": "[encoded data removed]",
      "text/plain": [
       "<Figure size 432x288 with 1 Axes>"
      ]
     },
     "metadata": {
      "needs_background": "light"
     },
     "output_type": "display_data"
    }
   ],
   "source": [
    "car.groupby('INTERSEC').size().plot.bar(width = 0.2)"
   ]
  },
  {
   "cell_type": "code",
   "execution_count": 94,
   "id": "artistic-diploma",
   "metadata": {
    "ExecuteTime": {
     "end_time": "2021-04-15T04:06:06.911480Z",
     "start_time": "2021-04-15T04:06:06.652626Z"
    }
   },
   "outputs": [
    {
     "data": {
      "text/plain": [
       "<AxesSubplot:xlabel='INTERSEC'>"
      ]
     },
     "execution_count": 94,
     "metadata": {},
     "output_type": "execute_result"
    },
    {
     "data": {
      "image/png": "[encoded data removed]",
      "text/plain": [
       "<Figure size 432x288 with 1 Axes>"
      ]
     },
     "metadata": {
      "needs_background": "light"
     },
     "output_type": "display_data"
    }
   ],
   "source": [
    "serious.groupby('INTERSEC').size().plot.bar(width = 0.2)"
   ]
  },
  {
   "cell_type": "code",
   "execution_count": 95,
   "id": "second-morgan",
   "metadata": {
    "ExecuteTime": {
     "end_time": "2021-04-15T04:06:07.553129Z",
     "start_time": "2021-04-15T04:06:07.324241Z"
    }
   },
   "outputs": [
    {
     "data": {
      "text/plain": [
       "<AxesSubplot:xlabel='INTERSEC'>"
      ]
     },
     "execution_count": 95,
     "metadata": {},
     "output_type": "execute_result"
    },
    {
     "data": {
      "image/png": "[encoded data removed]",
      "text/plain": [
       "<Figure size 432x288 with 1 Axes>"
      ]
     },
     "metadata": {
      "needs_background": "light"
     },
     "output_type": "display_data"
    }
   ],
   "source": [
    "trivial.groupby('INTERSEC').size().plot.bar(width = 0.2)"
   ]
  },
  {
   "cell_type": "code",
   "execution_count": 96,
   "id": "maritime-corner",
   "metadata": {
    "ExecuteTime": {
     "end_time": "2021-04-15T04:06:08.691466Z",
     "start_time": "2021-04-15T04:06:08.057831Z"
    }
   },
   "outputs": [
    {
     "data": {
      "image/png": "[encoded data removed]",
      "text/plain": [
       "<Figure size 432x288 with 1 Axes>"
      ]
     },
     "metadata": {
      "needs_background": "light"
     },
     "output_type": "display_data"
    }
   ],
   "source": [
    "serious.groupby(['LIGHTING','WEATHER']).size().sort_values(ascending = False).head(5).plot.bar()\n",
    "serw = list(serious.groupby(['LIGHTING','WEATHER']).size().sort_values(ascending = False).head(5))\n",
    "\n",
    "trivial.groupby(['LIGHTING','WEATHER']).size().sort_values(ascending = False).head(5).plot.bar()\n",
    "triw = list(trivial.groupby(['LIGHTING','WEATHER']).size().sort_values(ascending = False).head(5))\n",
    "\n",
    "car.groupby(['LIGHTING','WEATHER']).size().sort_values(ascending = False).head(5).plot.bar()\n",
    "allw = list(car.groupby(['LIGHTING','WEATHER']).size().sort_values(ascending = False).head(5))"
   ]
  },
  {
   "cell_type": "code",
   "execution_count": 97,
   "id": "imposed-floor",
   "metadata": {
    "ExecuteTime": {
     "end_time": "2021-04-15T04:06:09.304676Z",
     "start_time": "2021-04-15T04:06:09.147745Z"
    }
   },
   "outputs": [
    {
     "data": {
      "text/plain": [
       "True"
      ]
     },
     "execution_count": 97,
     "metadata": {},
     "output_type": "execute_result"
    }
   ],
   "source": [
    "labels1 = list(car.groupby(['LIGHTING','WEATHER']).size().sort_values(ascending = False).head(5).index)\n",
    "labels2 = list(serious.groupby(['LIGHTING','WEATHER']).size().sort_values(ascending = False).head(5).index)\n",
    "labels3 = list(trivial.groupby(['LIGHTING','WEATHER']).size().sort_values(ascending = False).head(5).index)\n",
    "labels1==labels2==labels3"
   ]
  },
  {
   "cell_type": "code",
   "execution_count": 98,
   "id": "demographic-theory",
   "metadata": {
    "ExecuteTime": {
     "end_time": "2021-04-15T04:06:10.124284Z",
     "start_time": "2021-04-15T04:06:09.765390Z"
    }
   },
   "outputs": [
    {
     "data": {
      "image/png": "[encoded data removed]",
      "text/plain": [
       "<Figure size 720x360 with 1 Axes>"
      ]
     },
     "metadata": {
      "needs_background": "light"
     },
     "output_type": "display_data"
    }
   ],
   "source": [
    "plt.figure(figsize=(10,5))\n",
    "\n",
    "ind = np.arange(5)\n",
    "\n",
    "width = 0.15\n",
    "\n",
    "if labels1==labels2==labels3:\n",
    "    labels = labels1\n",
    "    \n",
    "labels = [i[0] +\" & \"+ i[1]  for i in labels]\n",
    "    \n",
    "\n",
    "plt.bar(ind, allw , width, label='All')\n",
    "plt.bar(ind + width, triw, width, label='Minor')\n",
    "plt.bar(ind + 2*width, serw, width, label='Major')\n",
    "\n",
    "plt.xlabel('Conditions')\n",
    "plt.ylabel('Collisions')\n",
    "plt.title('Top 5 Weather and Lighting Conditions during Collisions')\n",
    "\n",
    "plt.xticks(ind + width, labels, rotation='vertical')\n",
    "\n",
    "# Finding the best position for legends and putting it\n",
    "plt.legend(loc='best')\n",
    "plt.show()"
   ]
  },
  {
   "cell_type": "code",
   "execution_count": 99,
   "id": "unsigned-dialogue",
   "metadata": {
    "ExecuteTime": {
     "end_time": "2021-04-15T04:06:10.746794Z",
     "start_time": "2021-04-15T04:06:10.504145Z"
    }
   },
   "outputs": [],
   "source": [
    "chiw = car[car['CITY']=='Chicago'].groupby(['LIGHTING','WEATHER']).size()\n",
    "\n",
    "uniw = car[car['CITY']=='Unincorporated'].groupby(['LIGHTING','WEATHER']).size()"
   ]
  },
  {
   "cell_type": "code",
   "execution_count": 100,
   "id": "indian-arabic",
   "metadata": {
    "ExecuteTime": {
     "end_time": "2021-04-15T04:06:11.234550Z",
     "start_time": "2021-04-15T04:06:11.142558Z"
    }
   },
   "outputs": [],
   "source": [
    "df1=chiw.reindex(index=chiw.index, level=0).unstack()\n",
    "df2=uniw.reindex(index=uniw.index, level=0).unstack()\n",
    "sert = serious.groupby(['INTERSEC', 'TRAF_CNTRL']).size().sort_values()\n",
    "df3=sert.unstack()\n",
    "trit = trivial.groupby(['INTERSEC', 'TRAF_CNTRL']).size().sort_values()\n",
    "df4=trit.unstack()"
   ]
  },
  {
   "cell_type": "code",
   "execution_count": 101,
   "id": "buried-analyst",
   "metadata": {
    "ExecuteTime": {
     "end_time": "2021-04-15T04:06:11.659306Z",
     "start_time": "2021-04-15T04:06:11.647316Z"
    }
   },
   "outputs": [],
   "source": [
    "df3 = df3.T\n",
    "df3.reset_index(inplace = True)\n",
    "df4 = df4.T\n",
    "df4.reset_index(inplace = True)"
   ]
  },
  {
   "cell_type": "code",
   "execution_count": 102,
   "id": "widespread-small",
   "metadata": {
    "ExecuteTime": {
     "end_time": "2021-04-15T04:06:12.112730Z",
     "start_time": "2021-04-15T04:06:12.099116Z"
    }
   },
   "outputs": [],
   "source": [
    "data1 = df3.melt('TRAF_CNTRL', var_name='Intersection', value_name='Count')\n",
    "data2 = df4.melt('TRAF_CNTRL', var_name='Intersection', value_name='Count')"
   ]
  },
  {
   "cell_type": "code",
   "execution_count": 103,
   "id": "continent-decade",
   "metadata": {
    "ExecuteTime": {
     "end_time": "2021-04-15T04:06:13.046730Z",
     "start_time": "2021-04-15T04:06:12.566558Z"
    }
   },
   "outputs": [
    {
     "data": {
      "image/png": "[encoded data removed]",
      "text/plain": [
       "<Figure size 432x288 with 1 Axes>"
      ]
     },
     "metadata": {
      "needs_background": "light"
     },
     "output_type": "display_data"
    }
   ],
   "source": [
    "ax=sns.barplot(x='TRAF_CNTRL', y='Count', hue='Intersection', data=data1)\n",
    "ax.set_xticklabels(ax.get_xticklabels(), rotation=90)\n",
    "pass"
   ]
  },
  {
   "cell_type": "code",
   "execution_count": 104,
   "id": "valuable-significance",
   "metadata": {
    "ExecuteTime": {
     "end_time": "2021-04-15T04:06:14.151051Z",
     "start_time": "2021-04-15T04:06:13.563387Z"
    }
   },
   "outputs": [
    {
     "data": {
      "image/png": "[encoded data removed]",
      "text/plain": [
       "<Figure size 432x288 with 1 Axes>"
      ]
     },
     "metadata": {
      "needs_background": "light"
     },
     "output_type": "display_data"
    }
   ],
   "source": [
    "ax=sns.barplot(x='TRAF_CNTRL', y='Count', hue='Intersection', data=data2)\n",
    "ax.set_xticklabels(ax.get_xticklabels(), rotation=90)\n",
    "pass"
   ]
  },
  {
   "cell_type": "code",
   "execution_count": 105,
   "id": "meaning-qualification",
   "metadata": {
    "ExecuteTime": {
     "end_time": "2021-04-15T04:06:14.789414Z",
     "start_time": "2021-04-15T04:06:14.699737Z"
    }
   },
   "outputs": [],
   "source": [
    "cart = car.groupby(['INTERSEC', 'TRAF_CNTRL']).size().sort_values()\n",
    "df5=cart.unstack()"
   ]
  },
  {
   "cell_type": "code",
   "execution_count": 106,
   "id": "multiple-arlington",
   "metadata": {
    "ExecuteTime": {
     "end_time": "2021-04-15T04:06:15.242162Z",
     "start_time": "2021-04-15T04:06:15.232166Z"
    }
   },
   "outputs": [],
   "source": [
    "df5 = df5.T\n",
    "df5.reset_index(inplace = True)"
   ]
  },
  {
   "cell_type": "code",
   "execution_count": 107,
   "id": "pharmaceutical-amber",
   "metadata": {
    "ExecuteTime": {
     "end_time": "2021-04-15T04:06:15.781853Z",
     "start_time": "2021-04-15T04:06:15.753866Z"
    }
   },
   "outputs": [],
   "source": [
    "data3 = df5.melt('TRAF_CNTRL', var_name='Intersection', value_name='Count')\n",
    "data3[\"Percentage\"] = round(data3[\"Count\"]*100/data3.Count.sum(),2)"
   ]
  },
  {
   "cell_type": "code",
   "execution_count": 108,
   "id": "automated-nylon",
   "metadata": {
    "ExecuteTime": {
     "end_time": "2021-04-15T04:06:16.849715Z",
     "start_time": "2021-04-15T04:06:16.243663Z"
    }
   },
   "outputs": [
    {
     "data": {
      "image/png": "[encoded data removed]",
      "text/plain": [
       "<Figure size 1080x432 with 1 Axes>"
      ]
     },
     "metadata": {
      "needs_background": "light"
     },
     "output_type": "display_data"
    }
   ],
   "source": [
    "rcParams['figure.figsize'] = 15,6\n",
    "ax=sns.barplot(x='TRAF_CNTRL', y='Percentage', hue='Intersection', data=data3)\n",
    "ax.set_xticklabels(ax.get_xticklabels(), rotation=90)\n",
    "for a in ax.patches:\n",
    "             ax.annotate(\"%.1f\" % a.get_height(), (a.get_x() + a.get_width() / 2.,a.get_height()),\n",
    "                 ha='center', va='center', fontsize=9, color='blue', xytext=(0,6),\n",
    "                 textcoords='offset points')#,arrowprops=dict(arrowstyle=\"->\",\n",
    "                            #connectionstyle=\"arc3\"))\n",
    "ax.set_title('Percentage of Collision by Traffic Control Type')\n",
    "ax.set_xticklabels(ax.get_xticklabels(), rotation=80)\n",
    "ax.set_xlabel(\"Traffic Control Type\")\n",
    "plt.show()\n",
    "pass"
   ]
  },
  {
   "cell_type": "code",
   "execution_count": 109,
   "id": "coastal-ordering",
   "metadata": {
    "ExecuteTime": {
     "end_time": "2021-04-15T04:07:02.396629Z",
     "start_time": "2021-04-15T04:06:17.309450Z"
    }
   },
   "outputs": [
    {
     "name": "stderr",
     "output_type": "stream",
     "text": [
      "C:\\ProgramData\\Anaconda3\\lib\\site-packages\\seaborn\\_decorators.py:36: FutureWarning: Pass the following variables as keyword args: x, y. From version 0.12, the only valid positional argument will be `data`, and passing other arguments without an explicit keyword will result in an error or misinterpretation.\n",
      "  warnings.warn(\n"
     ]
    },
    {
     "data": {
      "text/plain": [
       "Text(0.5, 1.0, 'Regression of Vehicles involved in Collision and People Injuries/Fatalities')"
      ]
     },
     "execution_count": 109,
     "metadata": {},
     "output_type": "execute_result"
    },
    {
     "data": {
      "image/png": "[encoded data removed]",
      "text/plain": [
       "<Figure size 1080x432 with 1 Axes>"
      ]
     },
     "metadata": {
      "needs_background": "light"
     },
     "output_type": "display_data"
    }
   ],
   "source": [
    "# Regression to find the best fit for the number of vehicles involed in crash and number of injuries and fatalities \n",
    "fig, ax = plt.subplots()\n",
    "plot = sns.regplot('NUM_VEH','critical',data = car)\n",
    "#plot.yaxis.set_major_locator(ticker.MaxNLocator(23))\n",
    "plot.yaxis.set_major_locator(ticker.MultipleLocator(4))\n",
    "plot.yaxis.set_minor_locator(ticker.MultipleLocator(2))\n",
    "plot.tick_params(labeltop=False, labelright=True)\n",
    "plot.set_ylim(ymax=60)\n",
    "plot.set_xlabel(\"Number of Vehicles involved in Crash\")\n",
    "plot.set_ylabel(\"Number of Injuries/Fatalities\")\n",
    "plot.set_title(\"Regression of Vehicles involved in Collision and People Injuries/Fatalities\")"
   ]
  },
  {
   "cell_type": "code",
   "execution_count": 117,
   "id": "sophisticated-prerequisite",
   "metadata": {
    "ExecuteTime": {
     "end_time": "2021-04-15T04:11:21.567083Z",
     "start_time": "2021-04-15T04:11:17.223607Z"
    }
   },
   "outputs": [
    {
     "name": "stderr",
     "output_type": "stream",
     "text": [
      "C:\\ProgramData\\Anaconda3\\lib\\site-packages\\IPython\\core\\interactiveshell.py:3165: DtypeWarning: Columns (0,19,54,55,63,64,65,66) have mixed types.Specify dtype option on import or set low_memory=False.\n",
      "  has_raised = await self.run_ast_nodes(code_ast.body, cell_name,\n"
     ]
    }
   ],
   "source": [
    "col = pd.read_csv(\"CrashReport2014.csv\")"
   ]
  },
  {
   "cell_type": "code",
   "execution_count": 124,
   "id": "automated-edgar",
   "metadata": {
    "ExecuteTime": {
     "end_time": "2021-04-15T04:12:49.117121Z",
     "start_time": "2021-04-15T04:12:49.112123Z"
    }
   },
   "outputs": [],
   "source": [
    "coll = col.keys()"
   ]
  },
  {
   "cell_type": "code",
   "execution_count": 129,
   "id": "unavailable-benchmark",
   "metadata": {
    "ExecuteTime": {
     "end_time": "2021-04-15T04:15:13.430398Z",
     "start_time": "2021-04-15T04:15:13.410408Z"
    }
   },
   "outputs": [
    {
     "name": "stdout",
     "output_type": "stream",
     "text": [
      "OBJECTID, geodb_oid, ROUTE, YEAR, MONTH, DAY, HOUR, DAY_O_WEEK, NUM_VEH, INJURIES, FATALITIES, COLL_TYPE, WEATHER, LIGHTING, SURF_COND, RD_DEFECT, RD_FEATURE, TRAF_CNTRL, COUNTY, TOWNSHIP, TS_ROUTE, MILE, CITY, DRIVER_1, VEH1_TYPE, VEH1_SPECL, VEH1_DIR, VEH1_MANUV, VEH1_EVNT1, VEH1_LOC1, VEH1_EVNT2, VEH1_LOC2, VEH1_EVNT3, VEH1_LOC3, DRIVER_2, VEH2_TYPE, VEH2_SPECL, VEH2_DIR, VEH2_MANUV, VEH2_EVNT1, VEH2_LOC1, VEH2_EVNT2, VEH2_LOC2, VEH2_EVNT3, VEH2_LOC3, DRIVER_3, VEH3_TYPE, VEH3_SPECL, VEH3_DIR, VEH3_MANUV, VEH3_EVNT1, VEH3_LOC1, VEH3_EVNT2, VEH3_LOC2, VEH3_EVNT3, VEH3_LOC3, DRIVER_4, VEH4_TYPE, VEH4_SPECL, VEH4_DIR, VEH4_MANUV, VEH4_EVNT1, VEH4_LOC1, VEH4_EVNT2, VEH4_LOC2, VEH4_EVNT3, VEH4_LOC3, DUP_CD, REC_TYPE, XCOORD, YCOORD, INTERSEC, SFE, AGENCY_NUM, RUNDATE, WorkZone, WorkZoneTy, WorkersPre, ExceedSpee, CellPhoneU, "
     ]
    }
   ],
   "source": [
    "for i in col.keys():\n",
    "    print(i, end = \", \")\n",
    "   "
   ]
  },
  {
   "cell_type": "code",
   "execution_count": 127,
   "id": "middle-basin",
   "metadata": {
    "ExecuteTime": {
     "end_time": "2021-04-15T04:13:51.861790Z",
     "start_time": "2021-04-15T04:13:51.846778Z"
    }
   },
   "outputs": [
    {
     "data": {
      "text/plain": [
       "['OBJECTID',\n",
       " 'geodb_oid',\n",
       " 'ROUTE',\n",
       " 'YEAR',\n",
       " 'MONTH',\n",
       " 'DAY',\n",
       " 'HOUR',\n",
       " 'DAY_O_WEEK',\n",
       " 'NUM_VEH',\n",
       " 'INJURIES',\n",
       " 'FATALITIES',\n",
       " 'COLL_TYPE',\n",
       " 'WEATHER',\n",
       " 'LIGHTING',\n",
       " 'SURF_COND',\n",
       " 'RD_DEFECT',\n",
       " 'RD_FEATURE',\n",
       " 'TRAF_CNTRL',\n",
       " 'COUNTY',\n",
       " 'TOWNSHIP',\n",
       " 'TS_ROUTE',\n",
       " 'MILE',\n",
       " 'CITY',\n",
       " 'DRIVER_1',\n",
       " 'VEH1_TYPE',\n",
       " 'VEH1_SPECL',\n",
       " 'VEH1_DIR',\n",
       " 'VEH1_MANUV',\n",
       " 'VEH1_EVNT1',\n",
       " 'VEH1_LOC1',\n",
       " 'VEH1_EVNT2',\n",
       " 'VEH1_LOC2',\n",
       " 'VEH1_EVNT3',\n",
       " 'VEH1_LOC3',\n",
       " 'DRIVER_2',\n",
       " 'VEH2_TYPE',\n",
       " 'VEH2_SPECL',\n",
       " 'VEH2_DIR',\n",
       " 'VEH2_MANUV',\n",
       " 'VEH2_EVNT1',\n",
       " 'VEH2_LOC1',\n",
       " 'VEH2_EVNT2',\n",
       " 'VEH2_LOC2',\n",
       " 'VEH2_EVNT3',\n",
       " 'VEH2_LOC3',\n",
       " 'DRIVER_3',\n",
       " 'VEH3_TYPE',\n",
       " 'VEH3_SPECL',\n",
       " 'VEH3_DIR',\n",
       " 'VEH3_MANUV',\n",
       " 'VEH3_EVNT1',\n",
       " 'VEH3_LOC1',\n",
       " 'VEH3_EVNT2',\n",
       " 'VEH3_LOC2',\n",
       " 'VEH3_EVNT3',\n",
       " 'VEH3_LOC3',\n",
       " 'DRIVER_4',\n",
       " 'VEH4_TYPE',\n",
       " 'VEH4_SPECL',\n",
       " 'VEH4_DIR',\n",
       " 'VEH4_MANUV',\n",
       " 'VEH4_EVNT1',\n",
       " 'VEH4_LOC1',\n",
       " 'VEH4_EVNT2',\n",
       " 'VEH4_LOC2',\n",
       " 'VEH4_EVNT3',\n",
       " 'VEH4_LOC3',\n",
       " 'DUP_CD',\n",
       " 'REC_TYPE',\n",
       " 'XCOORD',\n",
       " 'YCOORD',\n",
       " 'INTERSEC',\n",
       " 'SFE',\n",
       " 'AGENCY_NUM',\n",
       " 'RUNDATE',\n",
       " 'WorkZone',\n",
       " 'WorkZoneTy',\n",
       " 'WorkersPre',\n",
       " 'ExceedSpee',\n",
       " 'CellPhoneU']"
      ]
     },
     "execution_count": 127,
     "metadata": {},
     "output_type": "execute_result"
    }
   ],
   "source": [
    "coll"
   ]
  },
  {
   "cell_type": "code",
   "execution_count": null,
   "id": "silent-graphics",
   "metadata": {
    "ExecuteTime": {
     "end_time": "2021-04-15T04:19:36.693023Z",
     "start_time": "2021-04-15T04:19:36.680031Z"
    }
   },
   "outputs": [],
   "source": []
  },
  {
   "cell_type": "code",
   "execution_count": null,
   "id": "prospective-opinion",
   "metadata": {},
   "outputs": [],
   "source": []
  }
 ],
 "metadata": {
  "kernelspec": {
   "display_name": "Python 3",
   "language": "python",
   "name": "python3"
  },
  "language_info": {
   "codemirror_mode": {
    "name": "ipython",
    "version": 3
   },
   "file_extension": ".py",
   "mimetype": "text/x-python",
   "name": "python",
   "nbconvert_exporter": "python",
   "pygments_lexer": "ipython3",
   "version": "3.8.8"
  },
  "varInspector": {
   "cols": {
    "lenName": 16,
    "lenType": 16,
    "lenVar": 40
   },
   "kernels_config": {
    "python": {
     "delete_cmd_postfix": "",
     "delete_cmd_prefix": "del ",
     "library": "var_list.py",
     "varRefreshCmd": "print(var_dic_list())"
    },
    "r": {
     "delete_cmd_postfix": ") ",
     "delete_cmd_prefix": "rm(",
     "library": "var_list.r",
     "varRefreshCmd": "cat(var_dic_list()) "
    }
   },
   "types_to_exclude": [
    "module",
    "function",
    "builtin_function_or_method",
    "instance",
    "_Feature"
   ],
   "window_display": false
  }
 },
 "nbformat": 4,
 "nbformat_minor": 5
}
